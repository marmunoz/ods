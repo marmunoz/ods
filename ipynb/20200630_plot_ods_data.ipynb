{
 "cells": [
  {
   "cell_type": "code",
   "execution_count": 1,
   "metadata": {},
   "outputs": [],
   "source": [
    "import pandas as pd"
   ]
  },
  {
   "cell_type": "code",
   "execution_count": 2,
   "metadata": {},
   "outputs": [
    {
     "data": {
      "text/html": [
       "<div>\n",
       "<style scoped>\n",
       "    .dataframe tbody tr th:only-of-type {\n",
       "        vertical-align: middle;\n",
       "    }\n",
       "\n",
       "    .dataframe tbody tr th {\n",
       "        vertical-align: top;\n",
       "    }\n",
       "\n",
       "    .dataframe thead th {\n",
       "        text-align: right;\n",
       "    }\n",
       "</style>\n",
       "<table border=\"1\" class=\"dataframe\">\n",
       "  <thead>\n",
       "    <tr style=\"text-align: right;\">\n",
       "      <th></th>\n",
       "      <th>text</th>\n",
       "      <th>index</th>\n",
       "      <th>ODS_1</th>\n",
       "      <th>ODS_2</th>\n",
       "      <th>ODS_3</th>\n",
       "      <th>ODS_4</th>\n",
       "      <th>ODS_5</th>\n",
       "      <th>ODS_6</th>\n",
       "      <th>ODS_7</th>\n",
       "      <th>ODS_8</th>\n",
       "      <th>ODS_9</th>\n",
       "      <th>ODS_10</th>\n",
       "      <th>ODS_11</th>\n",
       "      <th>ODS_12</th>\n",
       "      <th>ODS_13</th>\n",
       "      <th>ODS_14</th>\n",
       "      <th>ODS_15</th>\n",
       "      <th>ODS_16</th>\n",
       "      <th>ODS_17</th>\n",
       "    </tr>\n",
       "  </thead>\n",
       "  <tbody>\n",
       "    <tr>\n",
       "      <th>0</th>\n",
       "      <td>promotoresods desear feliz año necesitar esper...</td>\n",
       "      <td>6</td>\n",
       "      <td>0</td>\n",
       "      <td>0</td>\n",
       "      <td>0</td>\n",
       "      <td>0</td>\n",
       "      <td>0</td>\n",
       "      <td>0</td>\n",
       "      <td>0</td>\n",
       "      <td>0</td>\n",
       "      <td>0</td>\n",
       "      <td>0</td>\n",
       "      <td>0</td>\n",
       "      <td>0</td>\n",
       "      <td>0</td>\n",
       "      <td>0</td>\n",
       "      <td>0</td>\n",
       "      <td>0</td>\n",
       "      <td>0</td>\n",
       "    </tr>\n",
       "    <tr>\n",
       "      <th>1</th>\n",
       "      <td>aplicación regar aguar depurar enzima natural ...</td>\n",
       "      <td>7</td>\n",
       "      <td>0</td>\n",
       "      <td>1</td>\n",
       "      <td>1</td>\n",
       "      <td>0</td>\n",
       "      <td>0</td>\n",
       "      <td>0</td>\n",
       "      <td>0</td>\n",
       "      <td>1</td>\n",
       "      <td>1</td>\n",
       "      <td>0</td>\n",
       "      <td>0</td>\n",
       "      <td>1</td>\n",
       "      <td>0</td>\n",
       "      <td>0</td>\n",
       "      <td>1</td>\n",
       "      <td>0</td>\n",
       "      <td>0</td>\n",
       "    </tr>\n",
       "    <tr>\n",
       "      <th>2</th>\n",
       "      <td>lunes estrenar esperar 19:30 _ 13c viajar para...</td>\n",
       "      <td>8</td>\n",
       "      <td>0</td>\n",
       "      <td>0</td>\n",
       "      <td>0</td>\n",
       "      <td>0</td>\n",
       "      <td>0</td>\n",
       "      <td>0</td>\n",
       "      <td>0</td>\n",
       "      <td>0</td>\n",
       "      <td>0</td>\n",
       "      <td>0</td>\n",
       "      <td>0</td>\n",
       "      <td>0</td>\n",
       "      <td>0</td>\n",
       "      <td>0</td>\n",
       "      <td>0</td>\n",
       "      <td>0</td>\n",
       "      <td>0</td>\n",
       "    </tr>\n",
       "    <tr>\n",
       "      <th>3</th>\n",
       "      <td>década cumplir objetivo agenda2030 preparar en...</td>\n",
       "      <td>9</td>\n",
       "      <td>0</td>\n",
       "      <td>0</td>\n",
       "      <td>0</td>\n",
       "      <td>0</td>\n",
       "      <td>0</td>\n",
       "      <td>0</td>\n",
       "      <td>0</td>\n",
       "      <td>0</td>\n",
       "      <td>0</td>\n",
       "      <td>0</td>\n",
       "      <td>0</td>\n",
       "      <td>0</td>\n",
       "      <td>0</td>\n",
       "      <td>0</td>\n",
       "      <td>0</td>\n",
       "      <td>0</td>\n",
       "      <td>0</td>\n",
       "    </tr>\n",
       "    <tr>\n",
       "      <th>4</th>\n",
       "      <td>nº 329 homenaje municipalismo 40añosdedemocrac...</td>\n",
       "      <td>10</td>\n",
       "      <td>0</td>\n",
       "      <td>0</td>\n",
       "      <td>0</td>\n",
       "      <td>0</td>\n",
       "      <td>0</td>\n",
       "      <td>0</td>\n",
       "      <td>0</td>\n",
       "      <td>0</td>\n",
       "      <td>0</td>\n",
       "      <td>0</td>\n",
       "      <td>0</td>\n",
       "      <td>0</td>\n",
       "      <td>0</td>\n",
       "      <td>0</td>\n",
       "      <td>0</td>\n",
       "      <td>0</td>\n",
       "      <td>0</td>\n",
       "    </tr>\n",
       "  </tbody>\n",
       "</table>\n",
       "</div>"
      ],
      "text/plain": [
       "                                                text  index  ODS_1  ODS_2  \\\n",
       "0  promotoresods desear feliz año necesitar esper...      6      0      0   \n",
       "1  aplicación regar aguar depurar enzima natural ...      7      0      1   \n",
       "2  lunes estrenar esperar 19:30 _ 13c viajar para...      8      0      0   \n",
       "3  década cumplir objetivo agenda2030 preparar en...      9      0      0   \n",
       "4  nº 329 homenaje municipalismo 40añosdedemocrac...     10      0      0   \n",
       "\n",
       "   ODS_3  ODS_4  ODS_5  ODS_6  ODS_7  ODS_8  ODS_9  ODS_10  ODS_11  ODS_12  \\\n",
       "0      0      0      0      0      0      0      0       0       0       0   \n",
       "1      1      0      0      0      0      1      1       0       0       1   \n",
       "2      0      0      0      0      0      0      0       0       0       0   \n",
       "3      0      0      0      0      0      0      0       0       0       0   \n",
       "4      0      0      0      0      0      0      0       0       0       0   \n",
       "\n",
       "   ODS_13  ODS_14  ODS_15  ODS_16  ODS_17  \n",
       "0       0       0       0       0       0  \n",
       "1       0       0       1       0       0  \n",
       "2       0       0       0       0       0  \n",
       "3       0       0       0       0       0  \n",
       "4       0       0       0       0       0  "
      ]
     },
     "execution_count": 2,
     "metadata": {},
     "output_type": "execute_result"
    }
   ],
   "source": [
    "tweets_ods = pd.read_feather('../data/tweets_ods')\n",
    "tweets_ods.head()"
   ]
  },
  {
   "cell_type": "code",
   "execution_count": 3,
   "metadata": {},
   "outputs": [
    {
     "data": {
      "text/html": [
       "<div>\n",
       "<style scoped>\n",
       "    .dataframe tbody tr th:only-of-type {\n",
       "        vertical-align: middle;\n",
       "    }\n",
       "\n",
       "    .dataframe tbody tr th {\n",
       "        vertical-align: top;\n",
       "    }\n",
       "\n",
       "    .dataframe thead th {\n",
       "        text-align: right;\n",
       "    }\n",
       "</style>\n",
       "<table border=\"1\" class=\"dataframe\">\n",
       "  <thead>\n",
       "    <tr style=\"text-align: right;\">\n",
       "      <th></th>\n",
       "      <th>index</th>\n",
       "      <th>id_tweet</th>\n",
       "      <th>id_tweet_orig</th>\n",
       "      <th>id_usuario</th>\n",
       "      <th>nom_usuario</th>\n",
       "      <th>nom_completo_usuario</th>\n",
       "      <th>desc_usuario</th>\n",
       "      <th>id_usuario_orig</th>\n",
       "      <th>nom_usuario_orig</th>\n",
       "      <th>nom_completo_usuario_orig</th>\n",
       "      <th>...</th>\n",
       "      <th>tw_idioma_orig</th>\n",
       "      <th>tw_ubicacion</th>\n",
       "      <th>tw_ubicacion_orig</th>\n",
       "      <th>tw_horacreacion</th>\n",
       "      <th>tw_horacreacion_orig</th>\n",
       "      <th>tw_retwitteadopor</th>\n",
       "      <th>tw_twitteadopor</th>\n",
       "      <th>tw_recuento_rt</th>\n",
       "      <th>tw_recuento_rt_orig</th>\n",
       "      <th>texto</th>\n",
       "    </tr>\n",
       "  </thead>\n",
       "  <tbody>\n",
       "    <tr>\n",
       "      <th>0</th>\n",
       "      <td>6</td>\n",
       "      <td>1212166614298382338</td>\n",
       "      <td>1212008063357591552</td>\n",
       "      <td>439478451</td>\n",
       "      <td>laxa_lazaro</td>\n",
       "      <td>Lázaro</td>\n",
       "      <td>|Est. Lic. en Gestión Ambiental y Desarrollo S...</td>\n",
       "      <td>1207404804714176513</td>\n",
       "      <td>red_promotores</td>\n",
       "      <td>Red Internacional de Promotores ODS</td>\n",
       "      <td>...</td>\n",
       "      <td>es</td>\n",
       "      <td>Zárate Bs As</td>\n",
       "      <td></td>\n",
       "      <td>2020-01-01T00:20:16.000Z</td>\n",
       "      <td>2019-12-31T13:50:14.000Z</td>\n",
       "      <td>laxa_lazaro</td>\n",
       "      <td>red_promotores</td>\n",
       "      <td>9</td>\n",
       "      <td>9</td>\n",
       "      <td>#promotoresods les desea feliz año. Nuestro lu...</td>\n",
       "    </tr>\n",
       "    <tr>\n",
       "      <th>1</th>\n",
       "      <td>7</td>\n",
       "      <td>1212166784696176640</td>\n",
       "      <td>1211675170907283457</td>\n",
       "      <td>106864114</td>\n",
       "      <td>licitacivil</td>\n",
       "      <td>licitacivil</td>\n",
       "      <td>Estudio de ingeniería y consultoría. Redacción...</td>\n",
       "      <td>4612694243</td>\n",
       "      <td>pavitek_es</td>\n",
       "      <td>Pavitek</td>\n",
       "      <td>...</td>\n",
       "      <td>es</td>\n",
       "      <td>Andalucía-Murcia</td>\n",
       "      <td></td>\n",
       "      <td>2020-01-01T00:20:57.000Z</td>\n",
       "      <td>2019-12-30T15:47:27.000Z</td>\n",
       "      <td>licitacivil</td>\n",
       "      <td>pavitek_es</td>\n",
       "      <td>3</td>\n",
       "      <td>3</td>\n",
       "      <td>Aplicación de un riego de agua depurada con en...</td>\n",
       "    </tr>\n",
       "    <tr>\n",
       "      <th>2</th>\n",
       "      <td>8</td>\n",
       "      <td>1212167010588774400</td>\n",
       "      <td>1211654521811812352</td>\n",
       "      <td>1038889645952704513</td>\n",
       "      <td>accion2030</td>\n",
       "      <td>Acción 2030</td>\n",
       "      <td>ACCIÓN 2030 ideas en movimiento, programa pilo...</td>\n",
       "      <td>918482978568900608</td>\n",
       "      <td>desafio2030</td>\n",
       "      <td>Desafio2030</td>\n",
       "      <td>...</td>\n",
       "      <td>es</td>\n",
       "      <td>Desde Chile para el Mundo</td>\n",
       "      <td>Chile</td>\n",
       "      <td>2020-01-01T00:21:50.000Z</td>\n",
       "      <td>2019-12-30T14:25:24.000Z</td>\n",
       "      <td>accion2030</td>\n",
       "      <td>desafio2030</td>\n",
       "      <td>12</td>\n",
       "      <td>12</td>\n",
       "      <td>??Es lunes de estreno ????????\\nLos esperamos ...</td>\n",
       "    </tr>\n",
       "    <tr>\n",
       "      <th>3</th>\n",
       "      <td>9</td>\n",
       "      <td>1212168110553411584</td>\n",
       "      <td>1212102625048629248</td>\n",
       "      <td>4830621921</td>\n",
       "      <td>2018maxabel</td>\n",
       "      <td>Max Paredes</td>\n",
       "      <td></td>\n",
       "      <td>240447091</td>\n",
       "      <td>pnud</td>\n",
       "      <td>ONU Desarrollo</td>\n",
       "      <td>...</td>\n",
       "      <td>es</td>\n",
       "      <td>Ecuador</td>\n",
       "      <td></td>\n",
       "      <td>2020-01-01T00:26:13.000Z</td>\n",
       "      <td>2019-12-31T20:06:00.000Z</td>\n",
       "      <td>2018maxabel</td>\n",
       "      <td>pnud</td>\n",
       "      <td>29</td>\n",
       "      <td>29</td>\n",
       "      <td>A una década para cumplir con los objetivos de...</td>\n",
       "    </tr>\n",
       "    <tr>\n",
       "      <th>4</th>\n",
       "      <td>10</td>\n",
       "      <td>1212168154266382336</td>\n",
       "      <td>1211604376776773633</td>\n",
       "      <td>1052169736270823424</td>\n",
       "      <td>SimarroEugenia</td>\n",
       "      <td>Maria Eugenia Simarro Ossorio</td>\n",
       "      <td>Directora General de Organización y Recursos FEMP</td>\n",
       "      <td>145286901</td>\n",
       "      <td>fempcomunica</td>\n",
       "      <td>FEMP</td>\n",
       "      <td>...</td>\n",
       "      <td>es</td>\n",
       "      <td></td>\n",
       "      <td>Madrid</td>\n",
       "      <td>2020-01-01T00:26:23.000Z</td>\n",
       "      <td>2019-12-30T11:06:08.000Z</td>\n",
       "      <td>SimarroEugenia</td>\n",
       "      <td>fempcomunica</td>\n",
       "      <td>1</td>\n",
       "      <td>1</td>\n",
       "      <td>???Nº 329\\n??#HomenajeAlMunicipalismo en el @S...</td>\n",
       "    </tr>\n",
       "  </tbody>\n",
       "</table>\n",
       "<p>5 rows × 24 columns</p>\n",
       "</div>"
      ],
      "text/plain": [
       "   index             id_tweet        id_tweet_orig           id_usuario  \\\n",
       "0      6  1212166614298382338  1212008063357591552            439478451   \n",
       "1      7  1212166784696176640  1211675170907283457            106864114   \n",
       "2      8  1212167010588774400  1211654521811812352  1038889645952704513   \n",
       "3      9  1212168110553411584  1212102625048629248           4830621921   \n",
       "4     10  1212168154266382336  1211604376776773633  1052169736270823424   \n",
       "\n",
       "      nom_usuario           nom_completo_usuario  \\\n",
       "0     laxa_lazaro                         Lázaro   \n",
       "1     licitacivil                    licitacivil   \n",
       "2      accion2030                    Acción 2030   \n",
       "3     2018maxabel                    Max Paredes   \n",
       "4  SimarroEugenia  Maria Eugenia Simarro Ossorio   \n",
       "\n",
       "                                        desc_usuario      id_usuario_orig  \\\n",
       "0  |Est. Lic. en Gestión Ambiental y Desarrollo S...  1207404804714176513   \n",
       "1  Estudio de ingeniería y consultoría. Redacción...           4612694243   \n",
       "2  ACCIÓN 2030 ideas en movimiento, programa pilo...   918482978568900608   \n",
       "3                                                               240447091   \n",
       "4  Directora General de Organización y Recursos FEMP            145286901   \n",
       "\n",
       "  nom_usuario_orig            nom_completo_usuario_orig  ... tw_idioma_orig  \\\n",
       "0   red_promotores  Red Internacional de Promotores ODS  ...             es   \n",
       "1       pavitek_es                              Pavitek  ...             es   \n",
       "2      desafio2030                          Desafio2030  ...             es   \n",
       "3             pnud                       ONU Desarrollo  ...             es   \n",
       "4     fempcomunica                                 FEMP  ...             es   \n",
       "\n",
       "                tw_ubicacion tw_ubicacion_orig           tw_horacreacion  \\\n",
       "0               Zárate Bs As                    2020-01-01T00:20:16.000Z   \n",
       "1           Andalucía-Murcia                    2020-01-01T00:20:57.000Z   \n",
       "2  Desde Chile para el Mundo             Chile  2020-01-01T00:21:50.000Z   \n",
       "3                    Ecuador                    2020-01-01T00:26:13.000Z   \n",
       "4                                       Madrid  2020-01-01T00:26:23.000Z   \n",
       "\n",
       "       tw_horacreacion_orig tw_retwitteadopor tw_twitteadopor tw_recuento_rt  \\\n",
       "0  2019-12-31T13:50:14.000Z       laxa_lazaro  red_promotores              9   \n",
       "1  2019-12-30T15:47:27.000Z       licitacivil      pavitek_es              3   \n",
       "2  2019-12-30T14:25:24.000Z        accion2030     desafio2030             12   \n",
       "3  2019-12-31T20:06:00.000Z       2018maxabel            pnud             29   \n",
       "4  2019-12-30T11:06:08.000Z    SimarroEugenia    fempcomunica              1   \n",
       "\n",
       "  tw_recuento_rt_orig                                              texto  \n",
       "0                   9  #promotoresods les desea feliz año. Nuestro lu...  \n",
       "1                   3  Aplicación de un riego de agua depurada con en...  \n",
       "2                  12  ??Es lunes de estreno ????????\\nLos esperamos ...  \n",
       "3                  29  A una década para cumplir con los objetivos de...  \n",
       "4                   1  ???Nº 329\\n??#HomenajeAlMunicipalismo en el @S...  \n",
       "\n",
       "[5 rows x 24 columns]"
      ]
     },
     "execution_count": 3,
     "metadata": {},
     "output_type": "execute_result"
    }
   ],
   "source": [
    "tweets_es = pd.read_feather('../data/tweets_es')\n",
    "tweets_es.head()"
   ]
  },
  {
   "cell_type": "markdown",
   "metadata": {},
   "source": [
    "Cantidad de _tweets_ por ODS"
   ]
  },
  {
   "cell_type": "code",
   "execution_count": 4,
   "metadata": {},
   "outputs": [
    {
     "data": {
      "text/plain": [
       "ODS_1      4215\n",
       "ODS_2      5484\n",
       "ODS_3      8617\n",
       "ODS_4      8950\n",
       "ODS_5      6318\n",
       "ODS_6       230\n",
       "ODS_7       743\n",
       "ODS_8     12339\n",
       "ODS_9      9352\n",
       "ODS_10     9866\n",
       "ODS_11     2898\n",
       "ODS_12     8568\n",
       "ODS_13     1600\n",
       "ODS_14       87\n",
       "ODS_15     2102\n",
       "ODS_16     6567\n",
       "ODS_17      362\n",
       "dtype: int64"
      ]
     },
     "execution_count": 4,
     "metadata": {},
     "output_type": "execute_result"
    }
   ],
   "source": [
    "tweets_ods.iloc[:, 2:].dropna().apply(sum, axis=0)"
   ]
  },
  {
   "cell_type": "code",
   "execution_count": 5,
   "metadata": {},
   "outputs": [
    {
     "data": {
      "image/png": "[encoded data removed]",
      "text/plain": [
       "<Figure size 1080x720 with 1 Axes>"
      ]
     },
     "metadata": {
      "needs_background": "light"
     },
     "output_type": "display_data"
    }
   ],
   "source": [
    "import matplotlib.pyplot as plt\n",
    "\n",
    "#ods = ['ODS-' + str(i+1) for i in range(17)]\n",
    "ods = pd.read_feather('../data/ods')\n",
    "ods_labels = ['{}-{}'.format(str(i),ods) for i,ods in zip(range(17), ods['ODS'])][::-1]\n",
    "ods_freq = tweets_ods.iloc[:, 2:].dropna().apply(sum, axis=0)\n",
    "\n",
    "fig = plt.figure(figsize=(15,10))\n",
    "plt.barh(ods_labels, ods_freq);"
   ]
  },
  {
   "cell_type": "markdown",
   "metadata": {},
   "source": [
    "Número de ODS por _tweet_"
   ]
  },
  {
   "cell_type": "code",
   "execution_count": 6,
   "metadata": {},
   "outputs": [
    {
     "data": {
      "image/png": "[encoded data removed]",
      "text/plain": [
       "<Figure size 432x288 with 1 Axes>"
      ]
     },
     "metadata": {
      "needs_background": "light"
     },
     "output_type": "display_data"
    }
   ],
   "source": [
    "tweets_ods_freq = tweets_ods.iloc[:, 2:].apply(sum, axis=1)\n",
    "\n",
    "plt.hist(tweets_ods_freq, bins=15);"
   ]
  },
  {
   "cell_type": "markdown",
   "metadata": {},
   "source": [
    "Porcentaje de _tweets_ que no están asociados a ningún ODS."
   ]
  },
  {
   "cell_type": "code",
   "execution_count": 7,
   "metadata": {},
   "outputs": [
    {
     "data": {
      "text/plain": [
       "0.40875221762270847"
      ]
     },
     "execution_count": 7,
     "metadata": {},
     "output_type": "execute_result"
    }
   ],
   "source": [
    "(tweets_ods_freq == 0).sum() / tweets_ods.shape[0]"
   ]
  },
  {
   "cell_type": "markdown",
   "metadata": {},
   "source": [
    "_tweets_ con más ODS"
   ]
  },
  {
   "cell_type": "code",
   "execution_count": 8,
   "metadata": {},
   "outputs": [
    {
     "data": {
      "text/plain": [
       "16"
      ]
     },
     "execution_count": 8,
     "metadata": {},
     "output_type": "execute_result"
    }
   ],
   "source": [
    "tweets_ods_freq.max()"
   ]
  },
  {
   "cell_type": "markdown",
   "metadata": {},
   "source": [
    "Vamos a ver el texto original aprovechando que disponemos del índice para hacer cruzar los datos."
   ]
  },
  {
   "cell_type": "code",
   "execution_count": 9,
   "metadata": {},
   "outputs": [
    {
     "name": "stdout",
     "output_type": "stream",
     "text": [
      "- Con el fin de garantizar el acceso universal al agua potable???? segura y asequible para todos en 2030, es necesario realizar inversiones adecuadas en infraestructura para las personas en situaciones de vulnerabilidad. ????\n",
      "\n",
      "#CAPSNicaragua #Comunidad #Agua #ODS #Nicaragua https://t.co/7nsgHlcTbo\n",
      "\n",
      "- Con los voluntariados corporativos ayudas a la conservación ambiental y a la protección de nuestros recursos naturales más preciados. \n",
      "\n",
      "#CuencaVerde\n",
      "#CuidamosElAgua\n",
      "#UnionDeVoluntades\n",
      "#fondosdeagua #MedioAmbiente #sostenibilidad #cambioclimatico #naturaleza #agua #environment https://t.co/IrQ5DPOZ5a\n",
      "\n",
      "- El consumo y la producción sostenible consisten en el uso eficiente de los recursos y la energía, infraestructuras que no dañen el medio ambiente, el acceso a los servicios básicos y la creación de empleos ecológicos. #ODS #DiezAñosParaSalvarAlMundo\n",
      "\n",
      "https://t.co/wuXobzxvTA https://t.co/fomebYgoXB\n",
      "\n",
      "- Protege las riquezas naturales de la nación y planifica el uso y aprovechamiento de los recursos naturales para garantizar su conservación, restauración y uso sostenible. \n",
      "\n",
      "#Ambiente #MedioAmbiente #Kelab #Agua #Sostenibilidad #Sustentabilidad #Desarrollo #Ingenieria https://t.co/kTJipKTn7D\n",
      "\n",
      "- Gestionar eficientemente y responsablemente las aguas residuales, garantiza la calidad de agua en las cuencas hidrográficas, la sostenibilidad de los ecosistemas y reduce los riesgos en la salud. \n",
      "\n",
      "#AC2020 #Venezuela #23Marzo2020 #Caracas #Noticias #ODS #Agenda2030 https://t.co/VWX7P4y3ld\n",
      "\n",
      "- La #salud en el interior de la #vivienda y resto de #edificios y la importancia de los materiales naturales para el #Bienestar, en la última entrega de @EscalaHumanaTVE https://t.co/ewHeiKmpiY #construcción #arquitectura #CalidadDelAire #Sostenibilidad\n",
      "\n"
     ]
    }
   ],
   "source": [
    "ods_idx = tweets_ods[tweets_ods_freq >= 15]['index']\n",
    "\n",
    "for text in tweets_es[tweets_es['index'].isin(ods_idx)]['texto']:\n",
    "    print('- {}\\n'.format(text))"
   ]
  }
 ],
 "metadata": {
  "kernelspec": {
   "display_name": "Python 3",
   "language": "python",
   "name": "python3"
  },
  "language_info": {
   "codemirror_mode": {
    "name": "ipython",
    "version": 3
   },
   "file_extension": ".py",
   "mimetype": "text/x-python",
   "name": "python",
   "nbconvert_exporter": "python",
   "pygments_lexer": "ipython3",
   "version": "3.6.10"
  }
 },
 "nbformat": 4,
 "nbformat_minor": 4
}
