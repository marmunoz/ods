{
 "cells": [
  {
   "cell_type": "code",
   "execution_count": 1,
   "metadata": {},
   "outputs": [],
   "source": [
    "import os"
   ]
  },
  {
   "cell_type": "markdown",
   "metadata": {},
   "source": [
    "**IMPORTANTE:** Es necesario la versión 2.3.0 de spacy."
   ]
  },
  {
   "cell_type": "code",
   "execution_count": 2,
   "metadata": {},
   "outputs": [
    {
     "data": {
      "text/plain": [
       "'2.3.0'"
      ]
     },
     "execution_count": 2,
     "metadata": {},
     "output_type": "execute_result"
    }
   ],
   "source": [
    "import spacy\n",
    "nlp = spacy.load(\"es_core_news_lg\")\n",
    "spacy.__version__"
   ]
  },
  {
   "cell_type": "markdown",
   "metadata": {},
   "source": [
    "Leemos los tweets que ya procesamos en otro notebook."
   ]
  },
  {
   "cell_type": "code",
   "execution_count": 3,
   "metadata": {},
   "outputs": [],
   "source": [
    "import pandas as pd\n",
    "\n",
    "tweets = pd.read_feather('../data/tweets_limpios')"
   ]
  },
  {
   "cell_type": "code",
   "execution_count": 4,
   "metadata": {},
   "outputs": [
    {
     "data": {
      "text/html": [
       "<div>\n",
       "<style scoped>\n",
       "    .dataframe tbody tr th:only-of-type {\n",
       "        vertical-align: middle;\n",
       "    }\n",
       "\n",
       "    .dataframe tbody tr th {\n",
       "        vertical-align: top;\n",
       "    }\n",
       "\n",
       "    .dataframe thead th {\n",
       "        text-align: right;\n",
       "    }\n",
       "</style>\n",
       "<table border=\"1\" class=\"dataframe\">\n",
       "  <thead>\n",
       "    <tr style=\"text-align: right;\">\n",
       "      <th></th>\n",
       "      <th>text</th>\n",
       "    </tr>\n",
       "  </thead>\n",
       "  <tbody>\n",
       "    <tr>\n",
       "      <th>0</th>\n",
       "      <td>promotoresods desear feliz año necesitar esper...</td>\n",
       "    </tr>\n",
       "    <tr>\n",
       "      <th>1</th>\n",
       "      <td>aplicación regar aguar depurar enzima natural ...</td>\n",
       "    </tr>\n",
       "    <tr>\n",
       "      <th>2</th>\n",
       "      <td>lunes estrenar esperar 19:30 _ 13c viajar para...</td>\n",
       "    </tr>\n",
       "    <tr>\n",
       "      <th>3</th>\n",
       "      <td>década cumplir objetivo agenda2030 preparar en...</td>\n",
       "    </tr>\n",
       "    <tr>\n",
       "      <th>4</th>\n",
       "      <td>nº 329 homenaje municipalismo 40añosdedemocrac...</td>\n",
       "    </tr>\n",
       "    <tr>\n",
       "      <th>...</th>\n",
       "      <td>...</td>\n",
       "    </tr>\n",
       "    <tr>\n",
       "      <th>25360</th>\n",
       "      <td>documento cepal examinar tendencia económico s...</td>\n",
       "    </tr>\n",
       "    <tr>\n",
       "      <th>25361</th>\n",
       "      <td>ámsterdam demostrar quimera salir entrar crisi...</td>\n",
       "    </tr>\n",
       "    <tr>\n",
       "      <th>25362</th>\n",
       "      <td>aprovecha confinamiento blog encontrar 40 artí...</td>\n",
       "    </tr>\n",
       "    <tr>\n",
       "      <th>25363</th>\n",
       "      <td>pilar mandato fundación promover debatir ue al...</td>\n",
       "    </tr>\n",
       "    <tr>\n",
       "      <th>25364</th>\n",
       "      <td>casa valle imperial proyectar integración tecn...</td>\n",
       "    </tr>\n",
       "  </tbody>\n",
       "</table>\n",
       "<p>25365 rows × 1 columns</p>\n",
       "</div>"
      ],
      "text/plain": [
       "                                                    text\n",
       "0      promotoresods desear feliz año necesitar esper...\n",
       "1      aplicación regar aguar depurar enzima natural ...\n",
       "2      lunes estrenar esperar 19:30 _ 13c viajar para...\n",
       "3      década cumplir objetivo agenda2030 preparar en...\n",
       "4      nº 329 homenaje municipalismo 40añosdedemocrac...\n",
       "...                                                  ...\n",
       "25360  documento cepal examinar tendencia económico s...\n",
       "25361  ámsterdam demostrar quimera salir entrar crisi...\n",
       "25362  aprovecha confinamiento blog encontrar 40 artí...\n",
       "25363  pilar mandato fundación promover debatir ue al...\n",
       "25364  casa valle imperial proyectar integración tecn...\n",
       "\n",
       "[25365 rows x 1 columns]"
      ]
     },
     "execution_count": 4,
     "metadata": {},
     "output_type": "execute_result"
    }
   ],
   "source": [
    "tweets"
   ]
  },
  {
   "cell_type": "markdown",
   "metadata": {},
   "source": [
    "Algunas pruebas con el método `similarity` de spacy."
   ]
  },
  {
   "cell_type": "code",
   "execution_count": 5,
   "metadata": {},
   "outputs": [
    {
     "data": {
      "text/plain": [
       "0.7585479797048875"
      ]
     },
     "execution_count": 5,
     "metadata": {},
     "output_type": "execute_result"
    }
   ],
   "source": [
    "doc0 = nlp(tweets['text'][0])\n",
    "doc1 = nlp(tweets['text'][1])\n",
    "doc0.similarity(doc1)"
   ]
  },
  {
   "cell_type": "code",
   "execution_count": 6,
   "metadata": {},
   "outputs": [
    {
     "data": {
      "text/plain": [
       "promotoresods desear feliz año necesitar esperar contar apoyar lograr objetivo agenda2030 planeta saludable sustentable esperamos contar ayuda nodejaranadieatras"
      ]
     },
     "execution_count": 6,
     "metadata": {},
     "output_type": "execute_result"
    }
   ],
   "source": [
    "doc0"
   ]
  },
  {
   "cell_type": "code",
   "execution_count": 7,
   "metadata": {},
   "outputs": [
    {
     "data": {
      "text/plain": [
       "aplicación regar aguar depurar enzima natural grava-cemento bayas castrillón resultar pavimentar ecológico proteger firmar prolongar vida útil sostenibilidad innovación pavitek10años pavimentación workinprogress pavitek"
      ]
     },
     "execution_count": 7,
     "metadata": {},
     "output_type": "execute_result"
    }
   ],
   "source": [
    "doc1"
   ]
  },
  {
   "cell_type": "markdown",
   "metadata": {},
   "source": [
    "### Similaridad de los tweets con las palabras del diccionario\n",
    "\n",
    "Cargamos el listado de palabras características de cada ods. La idea es comparar cada tweet con las palabras de cada ODS."
   ]
  },
  {
   "cell_type": "code",
   "execution_count": 8,
   "metadata": {},
   "outputs": [],
   "source": [
    "palabras = pd.read_feather('../data/diccionario_palabras_ods')"
   ]
  },
  {
   "cell_type": "code",
   "execution_count": 9,
   "metadata": {},
   "outputs": [
    {
     "data": {
      "text/plain": [
       "ODS.1\n",
       "1     [ALIMENTOS ASEQUIBLES, CAMPAÑAS SOLIDARIAS, DO...\n",
       "2     [AGRICULTURA ECOLÓGICA, AGRICULTURA SOSTENIBLE...\n",
       "3     [ACCIDENTE LABORAL, ACTIVIDAD FÍSICA, ALIMENTO...\n",
       "4     [ACCESO A INTERNET, APRENDER, APRENDIZAJE, APR...\n",
       "5     [CONDICIONES LABORABLES JUSTAS, CONTRATACION I...\n",
       "6     [AGUA, AGUA LIMPIA, CONSUMO AGUA, DISPONIBILID...\n",
       "7     [AHORRO ENERGETICO, DOMÓTICA, EFICIENCIA ENERG...\n",
       "8     [BECAS, CONTRATACION IGUALITARIA, CONCILIACION...\n",
       "9     [CREATIVIDAD, ECONOMIA CIRCULAR, DIGITALIZACIO...\n",
       "10    [CRISIS HUMANITARIAS, DESIGUALDADES, EMPLEO IN...\n",
       "11    [CIUDADES , CIUDADES SOSTENIBLES, CONCENTRACIO...\n",
       "12    [AHORRAR RECURSOS, AHORRO COSTES, CONSUMO, CON...\n",
       "13    [AHORRO ENERGIA, ANDAR, CAMBIO CLIMATICO, CLIM...\n",
       "14    [CONSERVACION MARINA, CONTAMINACION MARINA, CO...\n",
       "15    [BOSQUES, CATÁSTROFE NATURAL, CONSERVACION, DE...\n",
       "16    [ACCESO A LA JUSTICIA, ANTI-CORRUPCION, ASESIN...\n",
       "17    [ALIANZA MUNDIAL, ALIANZAS, ASOCIACIONES, CNMC...\n",
       "Name: PALABRAS, dtype: object"
      ]
     },
     "execution_count": 9,
     "metadata": {},
     "output_type": "execute_result"
    }
   ],
   "source": [
    "palabras[['ODS.1', 'PALABRAS']].dropna().groupby('ODS.1')['PALABRAS'].apply(list)"
   ]
  },
  {
   "cell_type": "code",
   "execution_count": 10,
   "metadata": {},
   "outputs": [
    {
     "data": {
      "text/plain": [
       "'alianza mundial  alianzas  asociaciones  cnmc  fundaciones  ita'"
      ]
     },
     "execution_count": 10,
     "metadata": {},
     "output_type": "execute_result"
    }
   ],
   "source": [
    "palabras17 = \"ALIANZA MUNDIAL, ALIANZAS, ASOCIACIONES, CNMC, FUNDACIONES, ITA\".split(',')\n",
    "palabras17 = \" \".join(palabras17).lower().strip()\n",
    "palabras17"
   ]
  },
  {
   "cell_type": "code",
   "execution_count": 11,
   "metadata": {},
   "outputs": [],
   "source": [
    "doc_palabras17 = nlp(palabras17)"
   ]
  },
  {
   "cell_type": "code",
   "execution_count": 12,
   "metadata": {},
   "outputs": [
    {
     "data": {
      "text/plain": [
       "0.4429783423397469"
      ]
     },
     "execution_count": 12,
     "metadata": {},
     "output_type": "execute_result"
    }
   ],
   "source": [
    "doc0.similarity(doc_palabras17)"
   ]
  },
  {
   "cell_type": "code",
   "execution_count": 13,
   "metadata": {},
   "outputs": [
    {
     "name": "stdout",
     "output_type": "stream",
     "text": [
      "0.4429783423397469\n",
      "0.4257914698963234\n",
      "0.32967012851285526\n",
      "0.5414404667453172\n",
      "0.2541533812136303\n"
     ]
    }
   ],
   "source": [
    "for text in tweets['text'][:5]:\n",
    "    doc = nlp(text)\n",
    "    print(doc.similarity(doc_palabras17))"
   ]
  },
  {
   "cell_type": "code",
   "execution_count": 14,
   "metadata": {},
   "outputs": [
    {
     "data": {
      "text/plain": [
       "0.4429783423397469"
      ]
     },
     "execution_count": 14,
     "metadata": {},
     "output_type": "execute_result"
    }
   ],
   "source": [
    "nlp(tweets['text'][0]).similarity(doc_palabras17)"
   ]
  },
  {
   "cell_type": "markdown",
   "metadata": {},
   "source": [
    "Eliminamos tweets vacíos"
   ]
  },
  {
   "cell_type": "code",
   "execution_count": 15,
   "metadata": {},
   "outputs": [],
   "source": [
    "tweets = tweets[tweets['text'] != '']"
   ]
  },
  {
   "cell_type": "markdown",
   "metadata": {},
   "source": [
    "Esta parte tarda una hora aproximadamente. Por eso la primera vez se guarda el resultado en `../data`. Y en sucesivas ejecuciones se lee dicho fichero.\n",
    "Para volver a crearlo basta eliminar el fichero `../data/similarity`."
   ]
  },
  {
   "cell_type": "code",
   "execution_count": 16,
   "metadata": {},
   "outputs": [
    {
     "name": "stdout",
     "output_type": "stream",
     "text": [
      "CPU times: user 5.42 ms, sys: 1.3 ms, total: 6.72 ms\n",
      "Wall time: 3.13 ms\n"
     ]
    },
    {
     "data": {
      "text/html": [
       "<div>\n",
       "<style scoped>\n",
       "    .dataframe tbody tr th:only-of-type {\n",
       "        vertical-align: middle;\n",
       "    }\n",
       "\n",
       "    .dataframe tbody tr th {\n",
       "        vertical-align: top;\n",
       "    }\n",
       "\n",
       "    .dataframe thead th {\n",
       "        text-align: right;\n",
       "    }\n",
       "</style>\n",
       "<table border=\"1\" class=\"dataframe\">\n",
       "  <thead>\n",
       "    <tr style=\"text-align: right;\">\n",
       "      <th></th>\n",
       "      <th>1</th>\n",
       "      <th>2</th>\n",
       "      <th>3</th>\n",
       "      <th>4</th>\n",
       "      <th>5</th>\n",
       "      <th>6</th>\n",
       "      <th>7</th>\n",
       "      <th>8</th>\n",
       "      <th>9</th>\n",
       "      <th>10</th>\n",
       "      <th>11</th>\n",
       "      <th>12</th>\n",
       "      <th>13</th>\n",
       "      <th>14</th>\n",
       "      <th>15</th>\n",
       "      <th>16</th>\n",
       "      <th>17</th>\n",
       "    </tr>\n",
       "  </thead>\n",
       "  <tbody>\n",
       "    <tr>\n",
       "      <th>0</th>\n",
       "      <td>0.602750</td>\n",
       "      <td>0.668933</td>\n",
       "      <td>0.659126</td>\n",
       "      <td>0.641406</td>\n",
       "      <td>0.565214</td>\n",
       "      <td>0.410802</td>\n",
       "      <td>0.557114</td>\n",
       "      <td>0.645977</td>\n",
       "      <td>0.582799</td>\n",
       "      <td>0.596844</td>\n",
       "      <td>0.503234</td>\n",
       "      <td>0.617844</td>\n",
       "      <td>0.540369</td>\n",
       "      <td>0.432259</td>\n",
       "      <td>0.500043</td>\n",
       "      <td>0.543211</td>\n",
       "      <td>0.442978</td>\n",
       "    </tr>\n",
       "    <tr>\n",
       "      <th>1</th>\n",
       "      <td>0.636542</td>\n",
       "      <td>0.775572</td>\n",
       "      <td>0.811659</td>\n",
       "      <td>0.657569</td>\n",
       "      <td>0.625112</td>\n",
       "      <td>0.686196</td>\n",
       "      <td>0.658377</td>\n",
       "      <td>0.710821</td>\n",
       "      <td>0.721847</td>\n",
       "      <td>0.682902</td>\n",
       "      <td>0.675127</td>\n",
       "      <td>0.745839</td>\n",
       "      <td>0.687321</td>\n",
       "      <td>0.585542</td>\n",
       "      <td>0.719265</td>\n",
       "      <td>0.636939</td>\n",
       "      <td>0.428387</td>\n",
       "    </tr>\n",
       "    <tr>\n",
       "      <th>2</th>\n",
       "      <td>0.285393</td>\n",
       "      <td>0.287010</td>\n",
       "      <td>0.266649</td>\n",
       "      <td>0.290361</td>\n",
       "      <td>0.298029</td>\n",
       "      <td>0.213132</td>\n",
       "      <td>0.222479</td>\n",
       "      <td>0.335018</td>\n",
       "      <td>0.265226</td>\n",
       "      <td>0.273110</td>\n",
       "      <td>0.440410</td>\n",
       "      <td>0.244629</td>\n",
       "      <td>0.319887</td>\n",
       "      <td>0.343346</td>\n",
       "      <td>0.329822</td>\n",
       "      <td>0.256540</td>\n",
       "      <td>0.329670</td>\n",
       "    </tr>\n",
       "    <tr>\n",
       "      <th>3</th>\n",
       "      <td>0.587860</td>\n",
       "      <td>0.535990</td>\n",
       "      <td>0.536301</td>\n",
       "      <td>0.602412</td>\n",
       "      <td>0.609603</td>\n",
       "      <td>0.292556</td>\n",
       "      <td>0.408285</td>\n",
       "      <td>0.627351</td>\n",
       "      <td>0.528717</td>\n",
       "      <td>0.608762</td>\n",
       "      <td>0.461606</td>\n",
       "      <td>0.533556</td>\n",
       "      <td>0.427018</td>\n",
       "      <td>0.353381</td>\n",
       "      <td>0.431755</td>\n",
       "      <td>0.585437</td>\n",
       "      <td>0.541440</td>\n",
       "    </tr>\n",
       "    <tr>\n",
       "      <th>4</th>\n",
       "      <td>0.331859</td>\n",
       "      <td>0.313931</td>\n",
       "      <td>0.331852</td>\n",
       "      <td>0.356891</td>\n",
       "      <td>0.369388</td>\n",
       "      <td>0.236997</td>\n",
       "      <td>0.238984</td>\n",
       "      <td>0.423133</td>\n",
       "      <td>0.340040</td>\n",
       "      <td>0.395937</td>\n",
       "      <td>0.338398</td>\n",
       "      <td>0.374853</td>\n",
       "      <td>0.299977</td>\n",
       "      <td>0.264312</td>\n",
       "      <td>0.313376</td>\n",
       "      <td>0.382091</td>\n",
       "      <td>0.254153</td>\n",
       "    </tr>\n",
       "    <tr>\n",
       "      <th>5</th>\n",
       "      <td>0.537358</td>\n",
       "      <td>0.509820</td>\n",
       "      <td>0.521213</td>\n",
       "      <td>0.506818</td>\n",
       "      <td>0.549486</td>\n",
       "      <td>0.382609</td>\n",
       "      <td>0.366114</td>\n",
       "      <td>0.607022</td>\n",
       "      <td>0.532024</td>\n",
       "      <td>0.573980</td>\n",
       "      <td>0.584403</td>\n",
       "      <td>0.566641</td>\n",
       "      <td>0.508576</td>\n",
       "      <td>0.424571</td>\n",
       "      <td>0.511043</td>\n",
       "      <td>0.591148</td>\n",
       "      <td>0.434117</td>\n",
       "    </tr>\n",
       "    <tr>\n",
       "      <th>6</th>\n",
       "      <td>0.708737</td>\n",
       "      <td>0.667735</td>\n",
       "      <td>0.697512</td>\n",
       "      <td>0.722985</td>\n",
       "      <td>0.688350</td>\n",
       "      <td>0.437536</td>\n",
       "      <td>0.523591</td>\n",
       "      <td>0.765595</td>\n",
       "      <td>0.653230</td>\n",
       "      <td>0.699340</td>\n",
       "      <td>0.590015</td>\n",
       "      <td>0.674642</td>\n",
       "      <td>0.566690</td>\n",
       "      <td>0.478601</td>\n",
       "      <td>0.580832</td>\n",
       "      <td>0.639949</td>\n",
       "      <td>0.575177</td>\n",
       "    </tr>\n",
       "    <tr>\n",
       "      <th>7</th>\n",
       "      <td>0.587162</td>\n",
       "      <td>0.698605</td>\n",
       "      <td>0.684168</td>\n",
       "      <td>0.572619</td>\n",
       "      <td>0.597597</td>\n",
       "      <td>0.571192</td>\n",
       "      <td>0.552481</td>\n",
       "      <td>0.691880</td>\n",
       "      <td>0.609562</td>\n",
       "      <td>0.659375</td>\n",
       "      <td>0.594549</td>\n",
       "      <td>0.710271</td>\n",
       "      <td>0.603639</td>\n",
       "      <td>0.464246</td>\n",
       "      <td>0.564478</td>\n",
       "      <td>0.546068</td>\n",
       "      <td>0.403404</td>\n",
       "    </tr>\n",
       "    <tr>\n",
       "      <th>8</th>\n",
       "      <td>0.448265</td>\n",
       "      <td>0.499427</td>\n",
       "      <td>0.444971</td>\n",
       "      <td>0.475499</td>\n",
       "      <td>0.412952</td>\n",
       "      <td>0.243447</td>\n",
       "      <td>0.457789</td>\n",
       "      <td>0.492458</td>\n",
       "      <td>0.463821</td>\n",
       "      <td>0.432507</td>\n",
       "      <td>0.386663</td>\n",
       "      <td>0.459945</td>\n",
       "      <td>0.428865</td>\n",
       "      <td>0.330608</td>\n",
       "      <td>0.348773</td>\n",
       "      <td>0.378121</td>\n",
       "      <td>0.416675</td>\n",
       "    </tr>\n",
       "    <tr>\n",
       "      <th>9</th>\n",
       "      <td>0.726144</td>\n",
       "      <td>0.731134</td>\n",
       "      <td>0.784925</td>\n",
       "      <td>0.790074</td>\n",
       "      <td>0.784964</td>\n",
       "      <td>0.520035</td>\n",
       "      <td>0.602960</td>\n",
       "      <td>0.836955</td>\n",
       "      <td>0.789187</td>\n",
       "      <td>0.803966</td>\n",
       "      <td>0.673148</td>\n",
       "      <td>0.738163</td>\n",
       "      <td>0.639828</td>\n",
       "      <td>0.566259</td>\n",
       "      <td>0.691333</td>\n",
       "      <td>0.766898</td>\n",
       "      <td>0.588068</td>\n",
       "    </tr>\n",
       "  </tbody>\n",
       "</table>\n",
       "</div>"
      ],
      "text/plain": [
       "          1         2         3         4         5         6         7  \\\n",
       "0  0.602750  0.668933  0.659126  0.641406  0.565214  0.410802  0.557114   \n",
       "1  0.636542  0.775572  0.811659  0.657569  0.625112  0.686196  0.658377   \n",
       "2  0.285393  0.287010  0.266649  0.290361  0.298029  0.213132  0.222479   \n",
       "3  0.587860  0.535990  0.536301  0.602412  0.609603  0.292556  0.408285   \n",
       "4  0.331859  0.313931  0.331852  0.356891  0.369388  0.236997  0.238984   \n",
       "5  0.537358  0.509820  0.521213  0.506818  0.549486  0.382609  0.366114   \n",
       "6  0.708737  0.667735  0.697512  0.722985  0.688350  0.437536  0.523591   \n",
       "7  0.587162  0.698605  0.684168  0.572619  0.597597  0.571192  0.552481   \n",
       "8  0.448265  0.499427  0.444971  0.475499  0.412952  0.243447  0.457789   \n",
       "9  0.726144  0.731134  0.784925  0.790074  0.784964  0.520035  0.602960   \n",
       "\n",
       "          8         9        10        11        12        13        14  \\\n",
       "0  0.645977  0.582799  0.596844  0.503234  0.617844  0.540369  0.432259   \n",
       "1  0.710821  0.721847  0.682902  0.675127  0.745839  0.687321  0.585542   \n",
       "2  0.335018  0.265226  0.273110  0.440410  0.244629  0.319887  0.343346   \n",
       "3  0.627351  0.528717  0.608762  0.461606  0.533556  0.427018  0.353381   \n",
       "4  0.423133  0.340040  0.395937  0.338398  0.374853  0.299977  0.264312   \n",
       "5  0.607022  0.532024  0.573980  0.584403  0.566641  0.508576  0.424571   \n",
       "6  0.765595  0.653230  0.699340  0.590015  0.674642  0.566690  0.478601   \n",
       "7  0.691880  0.609562  0.659375  0.594549  0.710271  0.603639  0.464246   \n",
       "8  0.492458  0.463821  0.432507  0.386663  0.459945  0.428865  0.330608   \n",
       "9  0.836955  0.789187  0.803966  0.673148  0.738163  0.639828  0.566259   \n",
       "\n",
       "         15        16        17  \n",
       "0  0.500043  0.543211  0.442978  \n",
       "1  0.719265  0.636939  0.428387  \n",
       "2  0.329822  0.256540  0.329670  \n",
       "3  0.431755  0.585437  0.541440  \n",
       "4  0.313376  0.382091  0.254153  \n",
       "5  0.511043  0.591148  0.434117  \n",
       "6  0.580832  0.639949  0.575177  \n",
       "7  0.564478  0.546068  0.403404  \n",
       "8  0.348773  0.378121  0.416675  \n",
       "9  0.691333  0.766898  0.588068  "
      ]
     },
     "execution_count": 16,
     "metadata": {},
     "output_type": "execute_result"
    }
   ],
   "source": [
    "%%time\n",
    "\n",
    "if os.path.exists('../data/similarity'):\n",
    "    similarity = pd.read_feather('../data/similarity')\n",
    "else:\n",
    "    words_list = palabras[['ODS.1', 'PALABRAS']].dropna().groupby('ODS.1')['PALABRAS'].apply(list)\n",
    "    similarity = pd.DataFrame([])\n",
    "    for ods, words in enumerate([' '.join(words).lower() for words in words_list]):\n",
    "        similarity[str(ods+1)] = pd.Series([nlp(tweet).similarity(nlp(words)) for tweet in tweets['text']])\n",
    "\n",
    "similarity.head(10)"
   ]
  },
  {
   "cell_type": "markdown",
   "metadata": {},
   "source": [
    "Sacamos el contenido de los tweets a ver si cuadran con los valores obtenidos."
   ]
  },
  {
   "cell_type": "code",
   "execution_count": 17,
   "metadata": {},
   "outputs": [
    {
     "name": "stdout",
     "output_type": "stream",
     "text": [
      "0: promotoresods desear feliz año necesitar esperar contar apoyar lograr objetivo agenda2030 planeta saludable sustentable esperamos contar ayuda nodejaranadieatras\n",
      "\n",
      "1: aplicación regar aguar depurar enzima natural grava-cemento bayas castrillón resultar pavimentar ecológico proteger firmar prolongar vida útil sostenibilidad innovación pavitek10años pavimentación workinprogress pavitek\n",
      "\n",
      "2: lunes estrenar esperar 19:30 _ 13c viajar paralelo 63 polo norte ciudad universitario trondheim agenda2030\n",
      "\n",
      "3: década cumplir objetivo agenda2030 preparar enfrentar reto desigualdad cambioclimático conocer desafío enfrentar mundo 2019\n",
      "\n",
      "4: nº 329 homenaje municipalismo 40añosdedemocracialocal femp cop25 poniendo caro ods caso práctico ods2\n",
      "\n",
      "5: nº 328 mayores gobiernos locales poniendo caro ods caso práctico ods1\n",
      "\n",
      "6: feliz2020 mejorar deseo año aacid continuar trabajar junto contribuir cumplimiento agenda2030 ods contamos andalucia comprometida pacode\n",
      "\n",
      "7: 14% alimento producir perder cosechar llegar nivel minorista sofa2019 señalar reducir pérdida desperdiciar alimento esencial lograr ods consulta informar digital\n",
      "\n",
      "8: hagamos 2020 oportunidad construir mundo necesitar feliz año añonuevo añobisiesto agenda2030 ods onu\n",
      "\n",
      "9: ano nuevo2020 iniciar década desafios laborales digno clavar sostenibilidad etica requerir alcanzar ods agenda2030 iniciar contribuir oportunidad diferenciarnos transformación explotación\n",
      "\n"
     ]
    }
   ],
   "source": [
    "for i, tweet in enumerate(tweets['text'][:10]):\n",
    "    print('{}: {}\\n'.format(i, tweet))"
   ]
  }
 ],
 "metadata": {
  "kernelspec": {
   "display_name": "Python 3",
   "language": "python",
   "name": "python3"
  },
  "language_info": {
   "codemirror_mode": {
    "name": "ipython",
    "version": 3
   },
   "file_extension": ".py",
   "mimetype": "text/x-python",
   "name": "python",
   "nbconvert_exporter": "python",
   "pygments_lexer": "ipython3",
   "version": "3.6.10"
  }
 },
 "nbformat": 4,
 "nbformat_minor": 4
}
