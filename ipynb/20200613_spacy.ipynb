{
 "cells": [
  {
   "cell_type": "code",
   "execution_count": 1,
   "metadata": {},
   "outputs": [],
   "source": [
    "#!pip install pandas"
   ]
  },
  {
   "cell_type": "code",
   "execution_count": 2,
   "metadata": {},
   "outputs": [],
   "source": [
    "import pandas as pd\n",
    "import numpy as np"
   ]
  },
  {
   "cell_type": "markdown",
   "metadata": {},
   "source": [
    "### Leer datos\n",
    "\n",
    "Leemos el dataframe guardado en `../data/df_es`"
   ]
  },
  {
   "cell_type": "code",
   "execution_count": 3,
   "metadata": {},
   "outputs": [
    {
     "data": {
      "text/html": [
       "<div>\n",
       "<style scoped>\n",
       "    .dataframe tbody tr th:only-of-type {\n",
       "        vertical-align: middle;\n",
       "    }\n",
       "\n",
       "    .dataframe tbody tr th {\n",
       "        vertical-align: top;\n",
       "    }\n",
       "\n",
       "    .dataframe thead th {\n",
       "        text-align: right;\n",
       "    }\n",
       "</style>\n",
       "<table border=\"1\" class=\"dataframe\">\n",
       "  <thead>\n",
       "    <tr style=\"text-align: right;\">\n",
       "      <th></th>\n",
       "      <th>id_tweet</th>\n",
       "      <th>id_tweet_orig</th>\n",
       "      <th>id_usuario</th>\n",
       "      <th>nom_usuario</th>\n",
       "      <th>nom_completo_usuario</th>\n",
       "      <th>desc_usuario</th>\n",
       "      <th>id_usuario_orig</th>\n",
       "      <th>nom_usuario_orig</th>\n",
       "      <th>nom_completo_usuario_orig</th>\n",
       "      <th>desc_usuario_orig</th>\n",
       "      <th>...</th>\n",
       "      <th>tw_idioma_orig</th>\n",
       "      <th>tw_ubicacion</th>\n",
       "      <th>tw_ubicacion_orig</th>\n",
       "      <th>tw_horacreacion</th>\n",
       "      <th>tw_horacreacion_orig</th>\n",
       "      <th>tw_retwitteadopor</th>\n",
       "      <th>tw_twitteadopor</th>\n",
       "      <th>tw_recuento_rt</th>\n",
       "      <th>tw_recuento_rt_orig</th>\n",
       "      <th>texto</th>\n",
       "    </tr>\n",
       "  </thead>\n",
       "  <tbody>\n",
       "    <tr>\n",
       "      <th>0</th>\n",
       "      <td>1212166614298382338</td>\n",
       "      <td>1212008063357591552</td>\n",
       "      <td>439478451</td>\n",
       "      <td>laxa_lazaro</td>\n",
       "      <td>Lázaro</td>\n",
       "      <td>|Est. Lic. en Gestión Ambiental y Desarrollo S...</td>\n",
       "      <td>1207404804714176513</td>\n",
       "      <td>red_promotores</td>\n",
       "      <td>Red Internacional de Promotores ODS</td>\n",
       "      <td>Red Internacional de Promotores ODS</td>\n",
       "      <td>...</td>\n",
       "      <td>es</td>\n",
       "      <td>Zárate Bs As</td>\n",
       "      <td></td>\n",
       "      <td>2020-01-01T00:20:16.000Z</td>\n",
       "      <td>2019-12-31T13:50:14.000Z</td>\n",
       "      <td>laxa_lazaro</td>\n",
       "      <td>red_promotores</td>\n",
       "      <td>9</td>\n",
       "      <td>9</td>\n",
       "      <td>#promotoresods les desea feliz año. Nuestro lu...</td>\n",
       "    </tr>\n",
       "    <tr>\n",
       "      <th>1</th>\n",
       "      <td>1212166784696176640</td>\n",
       "      <td>1211675170907283457</td>\n",
       "      <td>106864114</td>\n",
       "      <td>licitacivil</td>\n",
       "      <td>licitacivil</td>\n",
       "      <td>Estudio de ingeniería y consultoría. Redacción...</td>\n",
       "      <td>4612694243</td>\n",
       "      <td>pavitek_es</td>\n",
       "      <td>Pavitek</td>\n",
       "      <td>Empresa asturiana de fabricación y puesta en o...</td>\n",
       "      <td>...</td>\n",
       "      <td>es</td>\n",
       "      <td>Andalucía-Murcia</td>\n",
       "      <td></td>\n",
       "      <td>2020-01-01T00:20:57.000Z</td>\n",
       "      <td>2019-12-30T15:47:27.000Z</td>\n",
       "      <td>licitacivil</td>\n",
       "      <td>pavitek_es</td>\n",
       "      <td>3</td>\n",
       "      <td>3</td>\n",
       "      <td>Aplicación de un riego de agua depurada con en...</td>\n",
       "    </tr>\n",
       "    <tr>\n",
       "      <th>2</th>\n",
       "      <td>1212167010588774400</td>\n",
       "      <td>1211654521811812352</td>\n",
       "      <td>1038889645952704513</td>\n",
       "      <td>accion2030</td>\n",
       "      <td>Acción 2030</td>\n",
       "      <td>ACCIÓN 2030 ideas en movimiento, programa pilo...</td>\n",
       "      <td>918482978568900608</td>\n",
       "      <td>desafio2030</td>\n",
       "      <td>Desafio2030</td>\n",
       "      <td>Programa TV inspirado en ODS y en historias su...</td>\n",
       "      <td>...</td>\n",
       "      <td>es</td>\n",
       "      <td>Desde Chile para el Mundo</td>\n",
       "      <td>Chile</td>\n",
       "      <td>2020-01-01T00:21:50.000Z</td>\n",
       "      <td>2019-12-30T14:25:24.000Z</td>\n",
       "      <td>accion2030</td>\n",
       "      <td>desafio2030</td>\n",
       "      <td>12</td>\n",
       "      <td>12</td>\n",
       "      <td>??Es lunes de estreno ????????\\nLos esperamos ...</td>\n",
       "    </tr>\n",
       "    <tr>\n",
       "      <th>3</th>\n",
       "      <td>1212168110553411584</td>\n",
       "      <td>1212102625048629248</td>\n",
       "      <td>4830621921</td>\n",
       "      <td>2018maxabel</td>\n",
       "      <td>Max Paredes</td>\n",
       "      <td></td>\n",
       "      <td>240447091</td>\n",
       "      <td>pnud</td>\n",
       "      <td>ONU Desarrollo</td>\n",
       "      <td>Programa  de  las  Naciones  Unidas  para  el ...</td>\n",
       "      <td>...</td>\n",
       "      <td>es</td>\n",
       "      <td>Ecuador</td>\n",
       "      <td></td>\n",
       "      <td>2020-01-01T00:26:13.000Z</td>\n",
       "      <td>2019-12-31T20:06:00.000Z</td>\n",
       "      <td>2018maxabel</td>\n",
       "      <td>pnud</td>\n",
       "      <td>29</td>\n",
       "      <td>29</td>\n",
       "      <td>A una década para cumplir con los objetivos de...</td>\n",
       "    </tr>\n",
       "    <tr>\n",
       "      <th>4</th>\n",
       "      <td>1212168154266382336</td>\n",
       "      <td>1211604376776773633</td>\n",
       "      <td>1052169736270823424</td>\n",
       "      <td>SimarroEugenia</td>\n",
       "      <td>Maria Eugenia Simarro Ossorio</td>\n",
       "      <td>Directora General de Organización y Recursos FEMP</td>\n",
       "      <td>145286901</td>\n",
       "      <td>fempcomunica</td>\n",
       "      <td>FEMP</td>\n",
       "      <td>Federación Española de Municipios y Provincias...</td>\n",
       "      <td>...</td>\n",
       "      <td>es</td>\n",
       "      <td></td>\n",
       "      <td>Madrid</td>\n",
       "      <td>2020-01-01T00:26:23.000Z</td>\n",
       "      <td>2019-12-30T11:06:08.000Z</td>\n",
       "      <td>SimarroEugenia</td>\n",
       "      <td>fempcomunica</td>\n",
       "      <td>1</td>\n",
       "      <td>1</td>\n",
       "      <td>???Nº 329\\n??#HomenajeAlMunicipalismo en el @S...</td>\n",
       "    </tr>\n",
       "  </tbody>\n",
       "</table>\n",
       "<p>5 rows × 23 columns</p>\n",
       "</div>"
      ],
      "text/plain": [
       "              id_tweet        id_tweet_orig           id_usuario  \\\n",
       "0  1212166614298382338  1212008063357591552            439478451   \n",
       "1  1212166784696176640  1211675170907283457            106864114   \n",
       "2  1212167010588774400  1211654521811812352  1038889645952704513   \n",
       "3  1212168110553411584  1212102625048629248           4830621921   \n",
       "4  1212168154266382336  1211604376776773633  1052169736270823424   \n",
       "\n",
       "      nom_usuario           nom_completo_usuario  \\\n",
       "0     laxa_lazaro                         Lázaro   \n",
       "1     licitacivil                    licitacivil   \n",
       "2      accion2030                    Acción 2030   \n",
       "3     2018maxabel                    Max Paredes   \n",
       "4  SimarroEugenia  Maria Eugenia Simarro Ossorio   \n",
       "\n",
       "                                        desc_usuario      id_usuario_orig  \\\n",
       "0  |Est. Lic. en Gestión Ambiental y Desarrollo S...  1207404804714176513   \n",
       "1  Estudio de ingeniería y consultoría. Redacción...           4612694243   \n",
       "2  ACCIÓN 2030 ideas en movimiento, programa pilo...   918482978568900608   \n",
       "3                                                               240447091   \n",
       "4  Directora General de Organización y Recursos FEMP            145286901   \n",
       "\n",
       "  nom_usuario_orig            nom_completo_usuario_orig  \\\n",
       "0   red_promotores  Red Internacional de Promotores ODS   \n",
       "1       pavitek_es                              Pavitek   \n",
       "2      desafio2030                          Desafio2030   \n",
       "3             pnud                       ONU Desarrollo   \n",
       "4     fempcomunica                                 FEMP   \n",
       "\n",
       "                                   desc_usuario_orig  ... tw_idioma_orig  \\\n",
       "0                Red Internacional de Promotores ODS  ...             es   \n",
       "1  Empresa asturiana de fabricación y puesta en o...  ...             es   \n",
       "2  Programa TV inspirado en ODS y en historias su...  ...             es   \n",
       "3  Programa  de  las  Naciones  Unidas  para  el ...  ...             es   \n",
       "4  Federación Española de Municipios y Provincias...  ...             es   \n",
       "\n",
       "                tw_ubicacion tw_ubicacion_orig           tw_horacreacion  \\\n",
       "0               Zárate Bs As                    2020-01-01T00:20:16.000Z   \n",
       "1           Andalucía-Murcia                    2020-01-01T00:20:57.000Z   \n",
       "2  Desde Chile para el Mundo             Chile  2020-01-01T00:21:50.000Z   \n",
       "3                    Ecuador                    2020-01-01T00:26:13.000Z   \n",
       "4                                       Madrid  2020-01-01T00:26:23.000Z   \n",
       "\n",
       "       tw_horacreacion_orig tw_retwitteadopor tw_twitteadopor tw_recuento_rt  \\\n",
       "0  2019-12-31T13:50:14.000Z       laxa_lazaro  red_promotores              9   \n",
       "1  2019-12-30T15:47:27.000Z       licitacivil      pavitek_es              3   \n",
       "2  2019-12-30T14:25:24.000Z        accion2030     desafio2030             12   \n",
       "3  2019-12-31T20:06:00.000Z       2018maxabel            pnud             29   \n",
       "4  2019-12-30T11:06:08.000Z    SimarroEugenia    fempcomunica              1   \n",
       "\n",
       "  tw_recuento_rt_orig                                              texto  \n",
       "0                   9  #promotoresods les desea feliz año. Nuestro lu...  \n",
       "1                   3  Aplicación de un riego de agua depurada con en...  \n",
       "2                  12  ??Es lunes de estreno ????????\\nLos esperamos ...  \n",
       "3                  29  A una década para cumplir con los objetivos de...  \n",
       "4                   1  ???Nº 329\\n??#HomenajeAlMunicipalismo en el @S...  \n",
       "\n",
       "[5 rows x 23 columns]"
      ]
     },
     "execution_count": 3,
     "metadata": {},
     "output_type": "execute_result"
    }
   ],
   "source": [
    "df_es = pd.read_feather('../data/df_es')\n",
    "df_es.head()"
   ]
  },
  {
   "cell_type": "markdown",
   "metadata": {},
   "source": [
    "### NLP con spacy\n",
    "\n",
    "Vamos a procesar los textos con `spacy`. Aún no están _limpios_. Es sólo para hacernos una idea de lo que se puede obtener."
   ]
  },
  {
   "cell_type": "code",
   "execution_count": 4,
   "metadata": {},
   "outputs": [],
   "source": [
    "#!pip install spcacy"
   ]
  },
  {
   "cell_type": "code",
   "execution_count": 5,
   "metadata": {},
   "outputs": [
    {
     "data": {
      "text/plain": [
       "'2.1.8'"
      ]
     },
     "execution_count": 5,
     "metadata": {},
     "output_type": "execute_result"
    }
   ],
   "source": [
    "import spacy\n",
    "spacy.__version__"
   ]
  },
  {
   "cell_type": "code",
   "execution_count": 6,
   "metadata": {},
   "outputs": [],
   "source": [
    "#!python -m spacy download es"
   ]
  },
  {
   "cell_type": "code",
   "execution_count": 7,
   "metadata": {},
   "outputs": [],
   "source": [
    "nlp = spacy.load('es')"
   ]
  },
  {
   "cell_type": "code",
   "execution_count": 8,
   "metadata": {},
   "outputs": [
    {
     "data": {
      "text/plain": [
       "0        #promotoresods les desea feliz año. Nuestro lu...\n",
       "1        Aplicación de un riego de agua depurada con en...\n",
       "2        ??Es lunes de estreno ????????\\nLos esperamos ...\n",
       "3        A una década para cumplir con los objetivos de...\n",
       "4        ???Nº 329\\n??#HomenajeAlMunicipalismo en el @S...\n",
       "                               ...                        \n",
       "25360    Documento #CEPAL examina las tendencias económ...\n",
       "25361    Ámsterdam demuestra que no es ninguna quimera ...\n",
       "25362    ¡Aprovecha tu tiempo de confinamiento! En el b...\n",
       "25363    Un pilar del mandato de la Fundación es promov...\n",
       "25364    Casa Valle Imperial                           ...\n",
       "Name: texto, Length: 25365, dtype: object"
      ]
     },
     "execution_count": 8,
     "metadata": {},
     "output_type": "execute_result"
    }
   ],
   "source": [
    "df_es['texto']"
   ]
  },
  {
   "cell_type": "code",
   "execution_count": 9,
   "metadata": {},
   "outputs": [],
   "source": [
    "texto = df_es['texto'][25361]\n",
    "doc = nlp(texto)"
   ]
  },
  {
   "cell_type": "code",
   "execution_count": 10,
   "metadata": {},
   "outputs": [
    {
     "name": "stdout",
     "output_type": "stream",
     "text": [
      "Ámsterdam PER\n",
      "¡ MISC\n",
      "https://t.co/lDA5sLHTsu\n",
      "# MISC\n"
     ]
    }
   ],
   "source": [
    "for ent in doc.ents:\n",
    "    print(ent.text, ent.label_)"
   ]
  },
  {
   "cell_type": "code",
   "execution_count": 11,
   "metadata": {},
   "outputs": [
    {
     "name": "stdout",
     "output_type": "stream",
     "text": [
      "Ámsterdam Ámsterdam\n",
      "demuestra demostrar\n",
      "que que\n",
      "no no\n",
      "es ser\n",
      "ninguna ninguno\n",
      "quimera quimera\n",
      "lo el\n",
      "de de\n",
      "salir salir\n",
      "de de\n",
      "manera manera\n",
      "diferente diferente\n",
      "a a\n",
      "como comer\n",
      "entramos entrar\n",
      "en en\n",
      "esta este\n",
      "crisis crisis\n",
      ", ,\n",
      "a a\n",
      "nivel nivel\n",
      "económico económico\n",
      "y y\n",
      "de de\n",
      "# #\n",
      "sostenibilidad sostenibilidad\n",
      ", ,\n",
      "¡ ¡\n",
      "toca tocar\n",
      "romper romper\n",
      "con con\n",
      "el el\n",
      "modelo modelar\n",
      "actual actual\n",
      "de de\n",
      "consumo consumir\n",
      "! !\n",
      "https://t.co/lDA5sLHTsu https://t.co/lDA5sLHTsu\n",
      "\n",
      " \n",
      "\n",
      "# #\n",
      "COVID19 COVID19\n"
     ]
    }
   ],
   "source": [
    "for token in doc:\n",
    "    print(token.text, token.lemma_)"
   ]
  },
  {
   "cell_type": "code",
   "execution_count": 12,
   "metadata": {},
   "outputs": [
    {
     "name": "stdout",
     "output_type": "stream",
     "text": [
      "{'ha', 'expresó', 'aquella', 'empleas', 'manera', 'pues', 'verdad', 'cuándo', 'habia', 'estados', 'salvo', 'detras', 'sabes', 'siete', 'bajo', 'tarde', 'último', 'dijeron', 'total', 'hizo', 'emplear', 'gueno', 'tambien', 'eso', 'parte', 'primero', 'próximo', 'me', 'seis', 'excepto', 'después', 'estuvo', 'propios', 'suyo', 'intentais', 'podrá', 'hubo', 'buenas', 'como', 'puedo', 'cuantos', 'ampleamos', 'mias', 'horas', 'soy', 'solo', 'será', 'partir', 'además', 'temprano', 'vuestro', 'ver', 'debe', 'donde', 'tercera', 'diferentes', 'pais', 'que', 'para', 'usa', 'alrededor', 'también', 'algún', 'contigo', 'aquello', 'cuáles', 'trabajan', 'ante', 'cuenta', 'encima', 'eran', 'solamente', 'tras', 'somos', 'solos', 'tan', 'hoy', 'sola', 'ocho', 'la', 'de', 'es', 'mismas', 'muchas', 'saber', 'usas', 'ninguno', 'saben', 'dado', 'luego', 'nada', 'nuestra', 'los', 'pesar', 'ustedes', 'están', 'suya', 'puede', 'debido', 'quizás', 'estar', 'intento', 'las', 'tal', 'dar', 'intentan', 'nuestros', 'trabajar', 'tus', 'llevar', 'ademas', 'existen', 'actualmente', 'durante', 'pronto', 'estas', 'cuales', 'serán', 'ésta', 'realizó', 'mayor', 'llegó', 'hacerlo', 'alguno', 'se', 'estamos', 'segunda', 'próximos', 'tienen', 'hacen', 'ésos', 'mejor', 'aquel', 'les', 'sido', 'fin', 'estoy', 'mías', 'aquél', 'gran', 'sé', 'grandes', 'modo', 'intentar', 'ayer', 'teneis', 'veces', 'dentro', 'fui', 'podrian', 'unas', 'hacemos', 'eres', 'cosas', 'manifestó', 'algunas', 'cada', 'sabeis', 'era', 'quien', 'el', 'ciertas', 'mal', 'cuánto', 'he', 'sean', 'le', 'trabajamos', 'contra', 'lleva', 'podeis', 'hicieron', 'dicho', 'estará', 'ningunos', 'sería', 'tenido', 'todos', 'dan', 'hace', 'lugar', 'esos', 'buen', 'antaño', 'primera', 'os', 'enfrente', 'sí', 'segundo', 'igual', 'aunque', 'van', 'segun', 'aseguró', 'cualquier', 'mi', 'despues', 'indicó', 'nos', 'demás', 'largo', 'estan', 'hasta', 'consigues', 'cuantas', 'cuántas', 'ningún', 'siguiente', 'realizar', 'estaban', 'haceis', 'nosotras', 'uso', 'apenas', 'embargo', 'informo', 'fuimos', 'tuyos', 'atras', 'fuera', 'arribaabajo', 'sea', 'haciendo', 'ésas', 'vuestros', 'verdadero', 'quiza', 'muchos', 'momento', 'nueva', 'yo', 'aproximadamente', 'entonces', 'raras', 'haces', 'tú', 'esto', 'vamos', 'dicen', 'hay', 'tener', 'tenía', 'asi', 'queremos', 'adelante', 'anterior', 'podrían', 'tiene', 'adrede', 'delante', 'todavía', 'cómo', 'esa', 'nuestro', 'no', 'misma', 'ejemplo', 'esta', 'estaba', 'su', 'considera', 'sera', 'día', 'trabajas', 'sólo', 'vosotros', 'estais', 'intenta', 'menos', 'pocas', 'poder', 'podrán', 'hago', 'sin', 'hacer', 'sabe', 'antano', 'usted', 'agregó', 'ni', 'mas', 'aquéllas', 'aquellos', 'valor', 'ti', 'más', 'siempre', 'conseguimos', 'por', 'poca', 'repente', 'ninguna', 'habla', 'aquéllos', 'tampoco', 'tengo', 'dejó', 'arriba', 'sobre', 'tenga', 'cuanta', 'te', 'trabajo', 'mía', 'quizá', 'enseguida', 'dio', 'nunca', 'son', 'cinco', 'través', 'éste', 'vaya', 'sabemos', 'peor', 'ningunas', 'vuestra', 'quedó', 'algo', 'va', 'demasiado', 'usar', 'incluso', 'mia', 'breve', 'deben', 'nadie', 'pueda', 'ultimo', 'dónde', 'cuatro', 'aquí', 'al', 'diferente', 'hecho', 'aquélla', 'soyos', 'bastante', 'dieron', 'junto', 'toda', 'posible', 'conseguir', 'todas', 'cerca', 'nuestras', 'desde', 'consiguen', 'días', 'lo', 'mediante', 'despacio', 'usan', 'mio', 'aquellas', 'podriamos', 'ellos', 'cierto', 'menudo', 'algunos', 'afirmó', 'ese', 'última', 'cierta', 'mismos', 'eras', 'podría', 'todo', 'qué', 'trabajais', 'estado', 'tuya', 'con', 'tanto', 'hablan', 'así', 'entre', 'poco', 'lado', 'tuyas', 'éstos', 'intentamos', 'una', 'alguna', 'hemos', 'consigue', 'empleo', 'trata', 'tres', 'ahora', 'tuyo', 'aqui', 'mios', 'ciertos', 'otro', 'buenos', 'ahi', 'él', 'señaló', 'muy', 'pocos', 'explicó', 'principalmente', 'primeros', 'añadió', 'sino', 'paìs', 'informó', 'supuesto', 'conmigo', 'suyas', 'qeu', 'cuál', 'estos', 'este', 'quiere', 'uno', 'habrá', 'mucha', 'tuvo', 'consideró', 'pueden', 'solas', 'lejos', 'haber', 'otros', 'otras', 'está', 'ex', 'tiempo', 'trabaja', 'vais', 'ella', 'podria', 'existe', 'dia', 'del', 'realizado', 'da', 'propia', 'dias', 'nuevos', 'final', 'ahí', 'comentó', 'debajo', 'según', 'pasada', 'verdadera', 'porque', 'sus', 'claro', 'respecto', 'nuevo', 'usamos', 'mucho', 'todavia', 'ser', 'intentas', 'fueron', 'han', 'haya', 'ellas', 'nuevas', 'sois', 'alli', 'pudo', 'dos', 'cuando', 'empleais', 'míos', 'cuánta', 'primer', 'bien', 'proximo', 'dijo', 'emplean', 'mencionó', 'otra', 'poner', 'quizas', 'aun', 'deprisa', 'propias', 'acuerdo', 'habían', 'tendrá', 'últimos', 'encuentra', 'tu', 'mientras', 'cual', 'ése', 'mis', 'usais', 'eramos', 'propio', 'casi', 'esas', 'pero', 'cuanto', 'detrás', 'buena', 'creo', 'unos', 'hacia', 'ir', 'quiénes', 'siendo', 'tendrán', 'medio', 'antes', 'podemos', 'bueno', 'consigo', 'quienes', 'en', 'conocer', 'aún', 'un', 'había', 'vez', 'ello', 'cuántos', 'nosotros', 'vosotras', 'voy', 'dice', 'pasado', 'ambos', 'quién', 'éstas', 'podrias', 'podriais', 'varias', 'fue', 'tenemos', 'si', 'decir', 'ya', 'vuestras', 'sigue', 'parece', 'general', 'mío', 'mismo', 'mí', 'allí', 'ésa', 'últimas', 'varios'}\n"
     ]
    }
   ],
   "source": [
    "from spacy.lang.es.stop_words import STOP_WORDS\n",
    "print(STOP_WORDS)"
   ]
  },
  {
   "cell_type": "markdown",
   "metadata": {},
   "source": [
    "### Palabras más importantes\n",
    "\n",
    "Vectorizando el texto con tf-idf podemos encontrar las palabras más importantes de cada texto"
   ]
  },
  {
   "cell_type": "code",
   "execution_count": 13,
   "metadata": {},
   "outputs": [],
   "source": [
    "#!pip install sklearn"
   ]
  },
  {
   "cell_type": "code",
   "execution_count": 14,
   "metadata": {},
   "outputs": [],
   "source": [
    "from sklearn.feature_extraction.text import TfidfVectorizer"
   ]
  },
  {
   "cell_type": "code",
   "execution_count": 15,
   "metadata": {},
   "outputs": [
    {
     "data": {
      "text/plain": [
       "0    #promotoresods les desea feliz año. Nuestro lu...\n",
       "1    Aplicación de un riego de agua depurada con en...\n",
       "2    ??Es lunes de estreno ????????\\nLos esperamos ...\n",
       "3    A una década para cumplir con los objetivos de...\n",
       "4    ???Nº 329\\n??#HomenajeAlMunicipalismo en el @S...\n",
       "Name: texto, dtype: object"
      ]
     },
     "execution_count": 15,
     "metadata": {},
     "output_type": "execute_result"
    }
   ],
   "source": [
    "textos = df_es['texto']\n",
    "textos[:5]"
   ]
  },
  {
   "cell_type": "code",
   "execution_count": 16,
   "metadata": {},
   "outputs": [],
   "source": [
    "tfidfconverter = TfidfVectorizer()\n",
    "tfidfconverter.fit(textos)\n",
    "tfidf = tfidfconverter.transform(textos)\n",
    "feature_array = tfidfconverter.get_feature_names()"
   ]
  },
  {
   "cell_type": "code",
   "execution_count": 17,
   "metadata": {},
   "outputs": [],
   "source": [
    "def top_n_words(idx, n=3):\n",
    "    tfidf_sorting = pd.Series(tfidf[idx].toarray()[0], index=feature_array).sort_values(ascending=False)\n",
    "    top_n = tfidf_sorting[:n].index\n",
    "    return top_n"
   ]
  },
  {
   "cell_type": "code",
   "execution_count": 18,
   "metadata": {},
   "outputs": [
    {
     "data": {
      "text/plain": [
       "'#promotoresods les desea feliz año. Nuestro lugar nos necesita, esperamos contar con el apoyo de todos para lograr los objetivos de la #agenda2030 y hacer de nuestro planeta un lugar #saludable y #sustentable.\\nESPERAMOS CONTAR CON SU AYUDA\\n#NODEJARANADIEATRAS https://t.co/HcU9TYWwID'"
      ]
     },
     "execution_count": 18,
     "metadata": {},
     "output_type": "execute_result"
    }
   ],
   "source": [
    "textos[0]"
   ]
  },
  {
   "cell_type": "code",
   "execution_count": 19,
   "metadata": {},
   "outputs": [
    {
     "data": {
      "text/plain": [
       "Index(['contar', 'lugar', 'esperamos'], dtype='object')"
      ]
     },
     "execution_count": 19,
     "metadata": {},
     "output_type": "execute_result"
    }
   ],
   "source": [
    "top_n_words(0)"
   ]
  },
  {
   "cell_type": "code",
   "execution_count": 20,
   "metadata": {},
   "outputs": [
    {
     "data": {
      "text/plain": [
       "'Aplicación de un riego de agua depurada con enzimas naturales sobre grava-cemento,en Bayas #Castrillón. \\n\\nEl resultado es un #pavimento #ecológico que protege el firme y prolongar su vida útil.\\n\\n#Sostenibilidad #Innovación #Pavitek10años #pavimentación #workinprogress #Pavitek https://t.co/G5EHapBEz2'"
      ]
     },
     "execution_count": 20,
     "metadata": {},
     "output_type": "execute_result"
    }
   ],
   "source": [
    "textos[1]"
   ]
  },
  {
   "cell_type": "code",
   "execution_count": 21,
   "metadata": {},
   "outputs": [
    {
     "data": {
      "text/plain": [
       "Index(['bayas', 'pavimentación', 'grava'], dtype='object')"
      ]
     },
     "execution_count": 21,
     "metadata": {},
     "output_type": "execute_result"
    }
   ],
   "source": [
    "top_n_words(1)"
   ]
  },
  {
   "cell_type": "code",
   "execution_count": 22,
   "metadata": {},
   "outputs": [
    {
     "data": {
      "text/plain": [
       "'¡Aprovecha tu tiempo de confinamiento! En el blog de @nottopic encontrarás 40 #artículos fáciles de leer y aplicar sobre #RSC, #sostenibilidad, #innovación, #comunicación #RRHH y #LiderazgoResponsable con +300.000 visitas acumuladas ¿Qué mundo quieres? ??  https://t.co/wDItXpaaaI https://t.co/i3csIemQlN'"
      ]
     },
     "execution_count": 22,
     "metadata": {},
     "output_type": "execute_result"
    }
   ],
   "source": [
    "textos[25362]"
   ]
  },
  {
   "cell_type": "code",
   "execution_count": 23,
   "metadata": {},
   "outputs": [
    {
     "data": {
      "text/plain": [
       "Index(['acumuladas', 'i3csiemqln', 'wditxpaaai'], dtype='object')"
      ]
     },
     "execution_count": 23,
     "metadata": {},
     "output_type": "execute_result"
    }
   ],
   "source": [
    "top_n_words(25362)"
   ]
  },
  {
   "cell_type": "code",
   "execution_count": 24,
   "metadata": {},
   "outputs": [
    {
     "data": {
      "text/plain": [
       "Index(['acumuladas', 'i3csiemqln', 'wditxpaaai', 'nottopic',\n",
       "       'liderazgoresponsable'],\n",
       "      dtype='object')"
      ]
     },
     "execution_count": 24,
     "metadata": {},
     "output_type": "execute_result"
    }
   ],
   "source": [
    "top_n_words(25362, 5)"
   ]
  },
  {
   "cell_type": "markdown",
   "metadata": {},
   "source": [
    "Creamos un dataframe con las palabras más importantes. Una columna por cada palabra.\n",
    "\n",
    "NOTA: Como tarda unos 22 minutos, lo he guardado en formato _feather_ para no tener que volver a ejecutarlo. Recordar que los textos no están _limpios_"
   ]
  },
  {
   "cell_type": "code",
   "execution_count": 25,
   "metadata": {},
   "outputs": [],
   "source": [
    "#%%time\n",
    "#df_top_n = pd.DataFrame([top_n(idx) for idx in textos.index])"
   ]
  },
  {
   "cell_type": "code",
   "execution_count": 26,
   "metadata": {},
   "outputs": [],
   "source": [
    "#df_top_n.columns = ['top_1', 'top_2', 'top_3']\n",
    "#df_top_n.to_feather('../data/df_top_n')"
   ]
  },
  {
   "cell_type": "code",
   "execution_count": 27,
   "metadata": {},
   "outputs": [],
   "source": [
    "df_top_n = pd.read_feather('../data/df_top_n')"
   ]
  },
  {
   "cell_type": "code",
   "execution_count": 28,
   "metadata": {},
   "outputs": [
    {
     "data": {
      "text/html": [
       "<div>\n",
       "<style scoped>\n",
       "    .dataframe tbody tr th:only-of-type {\n",
       "        vertical-align: middle;\n",
       "    }\n",
       "\n",
       "    .dataframe tbody tr th {\n",
       "        vertical-align: top;\n",
       "    }\n",
       "\n",
       "    .dataframe thead th {\n",
       "        text-align: right;\n",
       "    }\n",
       "</style>\n",
       "<table border=\"1\" class=\"dataframe\">\n",
       "  <thead>\n",
       "    <tr style=\"text-align: right;\">\n",
       "      <th></th>\n",
       "      <th>top_1</th>\n",
       "      <th>top_2</th>\n",
       "      <th>top_3</th>\n",
       "    </tr>\n",
       "  </thead>\n",
       "  <tbody>\n",
       "    <tr>\n",
       "      <th>0</th>\n",
       "      <td>contar</td>\n",
       "      <td>lugar</td>\n",
       "      <td>esperamos</td>\n",
       "    </tr>\n",
       "    <tr>\n",
       "      <th>1</th>\n",
       "      <td>bayas</td>\n",
       "      <td>pavimentación</td>\n",
       "      <td>grava</td>\n",
       "    </tr>\n",
       "    <tr>\n",
       "      <th>2</th>\n",
       "      <td>0fnxo8cpdi</td>\n",
       "      <td>trondheim</td>\n",
       "      <td>paralelo</td>\n",
       "    </tr>\n",
       "    <tr>\n",
       "      <th>3</th>\n",
       "      <td>1ksh4vs9yl</td>\n",
       "      <td>uzzcyvyx1k</td>\n",
       "      <td>lomásleído</td>\n",
       "    </tr>\n",
       "    <tr>\n",
       "      <th>4</th>\n",
       "      <td>329</td>\n",
       "      <td>faed4uufex</td>\n",
       "      <td>40añosdedemocracialocal</td>\n",
       "    </tr>\n",
       "  </tbody>\n",
       "</table>\n",
       "</div>"
      ],
      "text/plain": [
       "        top_1          top_2                    top_3\n",
       "0      contar          lugar                esperamos\n",
       "1       bayas  pavimentación                    grava\n",
       "2  0fnxo8cpdi      trondheim                 paralelo\n",
       "3  1ksh4vs9yl     uzzcyvyx1k               lomásleído\n",
       "4         329     faed4uufex  40añosdedemocracialocal"
      ]
     },
     "execution_count": 28,
     "metadata": {},
     "output_type": "execute_result"
    }
   ],
   "source": [
    "df_top_n.head()"
   ]
  }
 ],
 "metadata": {
  "kernelspec": {
   "display_name": "Python 3",
   "language": "python",
   "name": "python3"
  },
  "language_info": {
   "codemirror_mode": {
    "name": "ipython",
    "version": 3
   },
   "file_extension": ".py",
   "mimetype": "text/x-python",
   "name": "python",
   "nbconvert_exporter": "python",
   "pygments_lexer": "ipython3",
   "version": "3.6.10"
  }
 },
 "nbformat": 4,
 "nbformat_minor": 4
}
