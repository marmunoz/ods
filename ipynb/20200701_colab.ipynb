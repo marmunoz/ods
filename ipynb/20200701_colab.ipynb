{
 "cells": [
  {
   "cell_type": "markdown",
   "metadata": {},
   "source": [
    "# Test notebooks in colab"
   ]
  },
  {
   "cell_type": "markdown",
   "metadata": {},
   "source": [
    "[Open in Colab](https://colab.research.google.com/github/michelangelocasablancas/ods/blob/master/ipynb/20200701_colab.ipynb)"
   ]
  },
  {
   "cell_type": "code",
   "execution_count": 4,
   "metadata": {},
   "outputs": [],
   "source": [
    "import os\n",
    "import requests\n",
    "import zipfile\n",
    "import io"
   ]
  },
  {
   "cell_type": "code",
   "execution_count": 5,
   "metadata": {},
   "outputs": [
    {
     "data": {
      "text/plain": [
       "bytes"
      ]
     },
     "execution_count": 5,
     "metadata": {},
     "output_type": "execute_result"
    }
   ],
   "source": [
    "%%time\n",
    "\n",
    "if os.path.exists('../data/twitter_202006111846.zip'):\n",
    "    archive = zipfile.ZipFile('../data/twitter_202006111846.zip', 'r')\n",
    "else:\n",
    "    zip_file_url = 'https://github.com/michelangelocasablancas/ods/blob/master/data/twitter_202006111846.zip?raw=true'\n",
    "    response = requests.get(zip_file_url)\n",
    "    archive = zipfile.ZipFile(io.BytesIO(r.content))\n",
    "\n",
    "data = archive.read('twitter_202006111846.json')\n",
    "type(data)"
   ]
  }
 ],
 "metadata": {
  "kernelspec": {
   "display_name": "Python 3",
   "language": "python",
   "name": "python3"
  },
  "language_info": {
   "codemirror_mode": {
    "name": "ipython",
    "version": 3
   },
   "file_extension": ".py",
   "mimetype": "text/x-python",
   "name": "python",
   "nbconvert_exporter": "python",
   "pygments_lexer": "ipython3",
   "version": "3.6.10"
  }
 },
 "nbformat": 4,
 "nbformat_minor": 4
}
