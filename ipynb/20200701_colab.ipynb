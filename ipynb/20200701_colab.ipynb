{
 "cells": [
  {
   "cell_type": "markdown",
   "metadata": {},
   "source": [
    "# Test notebooks in colab"
   ]
  },
  {
   "cell_type": "markdown",
   "metadata": {},
   "source": [
    "<a href=\"https://colab.research.google.com/github/michelangelocasablancas/ods/blob/master/ipynb/20200701_colab.ipynb\" target=\"_parent\"><img src=\"https://colab.research.google.com/assets/colab-badge.svg\" alt=\"Open In Colab\"/></a>"
   ]
  },
  {
   "cell_type": "markdown",
   "metadata": {},
   "source": [
    "Load data file from github."
   ]
  },
  {
   "cell_type": "code",
   "execution_count": 1,
   "metadata": {},
   "outputs": [],
   "source": [
    "import os\n",
    "import requests\n",
    "import zipfile\n",
    "import io"
   ]
  },
  {
   "cell_type": "code",
   "execution_count": 2,
   "metadata": {},
   "outputs": [
    {
     "name": "stdout",
     "output_type": "stream",
     "text": [
      "CPU times: user 163 ms, sys: 28.1 ms, total: 191 ms\n",
      "Wall time: 191 ms\n"
     ]
    },
    {
     "data": {
      "text/plain": [
       "bytes"
      ]
     },
     "execution_count": 2,
     "metadata": {},
     "output_type": "execute_result"
    }
   ],
   "source": [
    "%%time\n",
    "\n",
    "if os.path.exists('../data/twitter_202006111846.zip'):\n",
    "    archive = zipfile.ZipFile('../data/twitter_202006111846.zip', 'r')\n",
    "else:\n",
    "    zip_file_url = 'https://github.com/michelangelocasablancas/ods/blob/master/data/twitter_202006111846.zip?raw=true'\n",
    "    response = requests.get(zip_file_url)\n",
    "    archive = zipfile.ZipFile(io.BytesIO(response.content))\n",
    "\n",
    "data = archive.read('twitter_202006111846.json')\n",
    "type(data)"
   ]
  },
  {
   "cell_type": "markdown",
   "metadata": {},
   "source": [
    "Install requirements."
   ]
  },
  {
   "cell_type": "code",
   "execution_count": 3,
   "metadata": {},
   "outputs": [
    {
     "name": "stdout",
     "output_type": "stream",
     "text": [
      "Requirement already satisfied: spacy==2.3 in /home/alinde/miniconda3/envs/fastai-cpu/lib/python3.6/site-packages (2.3.0)\n",
      "Requirement already satisfied: thinc==7.4.1 in /home/alinde/miniconda3/envs/fastai-cpu/lib/python3.6/site-packages (from spacy==2.3) (7.4.1)\n",
      "Requirement already satisfied: catalogue<1.1.0,>=0.0.7 in /home/alinde/miniconda3/envs/fastai-cpu/lib/python3.6/site-packages (from spacy==2.3) (1.0.0)\n",
      "Requirement already satisfied: blis<0.5.0,>=0.4.0 in /home/alinde/miniconda3/envs/fastai-cpu/lib/python3.6/site-packages (from spacy==2.3) (0.4.1)\n",
      "Requirement already satisfied: wasabi<1.1.0,>=0.4.0 in /home/alinde/miniconda3/envs/fastai-cpu/lib/python3.6/site-packages (from spacy==2.3) (0.6.0)\n",
      "Requirement already satisfied: setuptools in /home/alinde/miniconda3/envs/fastai-cpu/lib/python3.6/site-packages (from spacy==2.3) (47.3.1.post20200622)\n",
      "Requirement already satisfied: srsly<1.1.0,>=1.0.2 in /home/alinde/miniconda3/envs/fastai-cpu/lib/python3.6/site-packages (from spacy==2.3) (1.0.2)\n",
      "Requirement already satisfied: plac<1.2.0,>=0.9.6 in /home/alinde/miniconda3/envs/fastai-cpu/lib/python3.6/site-packages (from spacy==2.3) (0.9.6)\n",
      "Requirement already satisfied: numpy>=1.15.0 in /home/alinde/miniconda3/envs/fastai-cpu/lib/python3.6/site-packages (from spacy==2.3) (1.17.0)\n",
      "Requirement already satisfied: tqdm<5.0.0,>=4.38.0 in /home/alinde/miniconda3/envs/fastai-cpu/lib/python3.6/site-packages (from spacy==2.3) (4.46.1)\n",
      "Requirement already satisfied: preshed<3.1.0,>=3.0.2 in /home/alinde/miniconda3/envs/fastai-cpu/lib/python3.6/site-packages (from spacy==2.3) (3.0.2)\n",
      "Requirement already satisfied: requests<3.0.0,>=2.13.0 in /home/alinde/miniconda3/envs/fastai-cpu/lib/python3.6/site-packages (from spacy==2.3) (2.24.0)\n",
      "Requirement already satisfied: cymem<2.1.0,>=2.0.2 in /home/alinde/miniconda3/envs/fastai-cpu/lib/python3.6/site-packages (from spacy==2.3) (2.0.3)\n",
      "Requirement already satisfied: murmurhash<1.1.0,>=0.28.0 in /home/alinde/miniconda3/envs/fastai-cpu/lib/python3.6/site-packages (from spacy==2.3) (1.0.2)\n",
      "Requirement already satisfied: importlib-metadata>=0.20; python_version < \"3.8\" in /home/alinde/miniconda3/envs/fastai-cpu/lib/python3.6/site-packages (from catalogue<1.1.0,>=0.0.7->spacy==2.3) (1.6.1)\n",
      "Requirement already satisfied: urllib3!=1.25.0,!=1.25.1,<1.26,>=1.21.1 in /home/alinde/miniconda3/envs/fastai-cpu/lib/python3.6/site-packages (from requests<3.0.0,>=2.13.0->spacy==2.3) (1.25.9)\n",
      "Requirement already satisfied: idna<3,>=2.5 in /home/alinde/miniconda3/envs/fastai-cpu/lib/python3.6/site-packages (from requests<3.0.0,>=2.13.0->spacy==2.3) (2.9)\n",
      "Requirement already satisfied: certifi>=2017.4.17 in /home/alinde/miniconda3/envs/fastai-cpu/lib/python3.6/site-packages (from requests<3.0.0,>=2.13.0->spacy==2.3) (2020.6.20)\n",
      "Requirement already satisfied: chardet<4,>=3.0.2 in /home/alinde/miniconda3/envs/fastai-cpu/lib/python3.6/site-packages (from requests<3.0.0,>=2.13.0->spacy==2.3) (3.0.4)\n",
      "Requirement already satisfied: zipp>=0.5 in /home/alinde/miniconda3/envs/fastai-cpu/lib/python3.6/site-packages (from importlib-metadata>=0.20; python_version < \"3.8\"->catalogue<1.1.0,>=0.0.7->spacy==2.3) (3.1.0)\n"
     ]
    }
   ],
   "source": [
    "!pip install spacy==2.3"
   ]
  },
  {
   "cell_type": "code",
   "execution_count": 4,
   "metadata": {},
   "outputs": [],
   "source": [
    "import spacy"
   ]
  },
  {
   "cell_type": "code",
   "execution_count": 5,
   "metadata": {},
   "outputs": [],
   "source": [
    "try:\n",
    "    nlp = spacy.load('es_core_news_lg')\n",
    "except OSError:\n",
    "    !python -m spacy download es_core_news_lg\n",
    "    nlp = spacy.load('es_core_news_lg')"
   ]
  }
 ],
 "metadata": {
  "kernelspec": {
   "display_name": "Python 3",
   "language": "python",
   "name": "python3"
  },
  "language_info": {
   "codemirror_mode": {
    "name": "ipython",
    "version": 3
   },
   "file_extension": ".py",
   "mimetype": "text/x-python",
   "name": "python",
   "nbconvert_exporter": "python",
   "pygments_lexer": "ipython3",
   "version": "3.6.10"
  }
 },
 "nbformat": 4,
 "nbformat_minor": 4
}
