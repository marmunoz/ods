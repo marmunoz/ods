{
 "cells": [
  {
   "cell_type": "code",
   "execution_count": 1,
   "metadata": {},
   "outputs": [],
   "source": [
    "import pandas as pd\n",
    "import numpy as np\n",
    "import json\n",
    "import zipfile"
   ]
  },
  {
   "cell_type": "markdown",
   "metadata": {},
   "source": [
    "Leer el fichero json que hay dentro del zip"
   ]
  },
  {
   "cell_type": "code",
   "execution_count": 2,
   "metadata": {},
   "outputs": [
    {
     "data": {
      "text/plain": [
       "bytes"
      ]
     },
     "execution_count": 2,
     "metadata": {},
     "output_type": "execute_result"
    }
   ],
   "source": [
    "archive = zipfile.ZipFile('../data/twitter_202006111846.zip', 'r')\n",
    "data = archive.read('twitter_202006111846.json')\n",
    "type(data)"
   ]
  },
  {
   "cell_type": "markdown",
   "metadata": {},
   "source": [
    "El tipo de datos es bytes. Hay que convertirlo a string."
   ]
  },
  {
   "cell_type": "code",
   "execution_count": 3,
   "metadata": {},
   "outputs": [],
   "source": [
    "data = data.decode(\"utf-8\")"
   ]
  },
  {
   "cell_type": "markdown",
   "metadata": {},
   "source": [
    "Convertir el string en un diccionario.\n",
    "\n",
    "NOTA: Si intentamos convertir el string dará el siguiente error:\n",
    "\n",
    "`JSONDecodeError: Invalid control character at: line 539336 column 40 (char 28093954)`\n",
    "\n",
    "El problema es que hay un carácter de fin de fichero (código ascii 1C en hexadecimal). Hay que eliminar ese carácter."
   ]
  },
  {
   "cell_type": "code",
   "execution_count": 4,
   "metadata": {},
   "outputs": [],
   "source": [
    "data = data.replace('\\x1c', '')\n",
    "data = json.loads(data)"
   ]
  },
  {
   "cell_type": "markdown",
   "metadata": {},
   "source": [
    "Si inspeccionamos el json vemos que consiste en una clave y una lista de tweets.\n",
    "\n",
    "A continuación extraemos los tweets."
   ]
  },
  {
   "cell_type": "code",
   "execution_count": 5,
   "metadata": {},
   "outputs": [
    {
     "name": "stdout",
     "output_type": "stream",
     "text": [
      "<class 'dict'>\n",
      "[\"select * from twitter where tw_horacreacion > '2020-01-01'\"]\n"
     ]
    },
    {
     "data": {
      "text/plain": [
       "43697"
      ]
     },
     "execution_count": 5,
     "metadata": {},
     "output_type": "execute_result"
    }
   ],
   "source": [
    "print(type(data))\n",
    "print(list(data.keys()))\n",
    "\n",
    "tweets = data[\"select * from twitter where tw_horacreacion > '2020-01-01'\"]\n",
    "len(tweets)"
   ]
  },
  {
   "cell_type": "markdown",
   "metadata": {},
   "source": [
    "Finalmente con el diccionario podemos crear un dataframe de pandas"
   ]
  },
  {
   "cell_type": "code",
   "execution_count": 6,
   "metadata": {},
   "outputs": [
    {
     "data": {
      "text/html": [
       "<div>\n",
       "<style scoped>\n",
       "    .dataframe tbody tr th:only-of-type {\n",
       "        vertical-align: middle;\n",
       "    }\n",
       "\n",
       "    .dataframe tbody tr th {\n",
       "        vertical-align: top;\n",
       "    }\n",
       "\n",
       "    .dataframe thead th {\n",
       "        text-align: right;\n",
       "    }\n",
       "</style>\n",
       "<table border=\"1\" class=\"dataframe\">\n",
       "  <thead>\n",
       "    <tr style=\"text-align: right;\">\n",
       "      <th></th>\n",
       "      <th>id_tweet</th>\n",
       "      <th>id_tweet_orig</th>\n",
       "      <th>id_usuario</th>\n",
       "      <th>nom_usuario</th>\n",
       "      <th>nom_completo_usuario</th>\n",
       "      <th>desc_usuario</th>\n",
       "      <th>id_usuario_orig</th>\n",
       "      <th>nom_usuario_orig</th>\n",
       "      <th>nom_completo_usuario_orig</th>\n",
       "      <th>desc_usuario_orig</th>\n",
       "      <th>...</th>\n",
       "      <th>tw_ubicacion</th>\n",
       "      <th>tw_ubicacion_orig</th>\n",
       "      <th>tw_horacreacion</th>\n",
       "      <th>tw_horacreacion_orig</th>\n",
       "      <th>tw_retwitteadopor</th>\n",
       "      <th>tw_twitteadopor</th>\n",
       "      <th>tw_recuento_rt</th>\n",
       "      <th>tw_recuento_rt_orig</th>\n",
       "      <th>it_destino_final</th>\n",
       "      <th>it_destino_orig_final</th>\n",
       "    </tr>\n",
       "  </thead>\n",
       "  <tbody>\n",
       "    <tr>\n",
       "      <th>0</th>\n",
       "      <td>1212163587294167040</td>\n",
       "      <td>None</td>\n",
       "      <td>87613968</td>\n",
       "      <td>docraghu8</td>\n",
       "      <td>Raghupathy Anchala</td>\n",
       "      <td>Professor | Public Health &amp; Primary Care Speci...</td>\n",
       "      <td></td>\n",
       "      <td>None</td>\n",
       "      <td>None</td>\n",
       "      <td>None</td>\n",
       "      <td>...</td>\n",
       "      <td>Pune, India</td>\n",
       "      <td>None</td>\n",
       "      <td>2020-01-01T00:08:14.000Z</td>\n",
       "      <td>None</td>\n",
       "      <td>docraghu8</td>\n",
       "      <td>None</td>\n",
       "      <td>0</td>\n",
       "      <td></td>\n",
       "      <td>None</td>\n",
       "      <td>None</td>\n",
       "    </tr>\n",
       "    <tr>\n",
       "      <th>1</th>\n",
       "      <td>1212164231602114560</td>\n",
       "      <td>1212019166107975680</td>\n",
       "      <td>16511904</td>\n",
       "      <td>SimiMishraSM</td>\n",
       "      <td>simi.mishra.sm</td>\n",
       "      <td>A consultant with a passion for developing ski...</td>\n",
       "      <td>2397494744</td>\n",
       "      <td>CDF_India</td>\n",
       "      <td>Connecting Dreams Foundation</td>\n",
       "      <td>Connecting 10 Million SDG Dreams by 2025!</td>\n",
       "      <td>...</td>\n",
       "      <td>India</td>\n",
       "      <td>India</td>\n",
       "      <td>2020-01-01T00:10:48.000Z</td>\n",
       "      <td>2019-12-31T14:34:22.000Z</td>\n",
       "      <td>SimiMishraSM</td>\n",
       "      <td>CDF_India</td>\n",
       "      <td>1</td>\n",
       "      <td>1</td>\n",
       "      <td>None</td>\n",
       "      <td>None</td>\n",
       "    </tr>\n",
       "    <tr>\n",
       "      <th>2</th>\n",
       "      <td>1212165341532565505</td>\n",
       "      <td>1212146612203638784</td>\n",
       "      <td>855368138</td>\n",
       "      <td>PIMESind</td>\n",
       "      <td>Regals Republicans</td>\n",
       "      <td>Botiga online de regals independentistes.</td>\n",
       "      <td>970957796593360896</td>\n",
       "      <td>lifeclimark</td>\n",
       "      <td>Life Climark</td>\n",
       "      <td>El projecte CLIMARK té com a principal objecti...</td>\n",
       "      <td>...</td>\n",
       "      <td>Mollet del Vallès</td>\n",
       "      <td></td>\n",
       "      <td>2020-01-01T00:15:13.000Z</td>\n",
       "      <td>2019-12-31T23:00:47.000Z</td>\n",
       "      <td>PIMESind</td>\n",
       "      <td>lifeclimark</td>\n",
       "      <td>3</td>\n",
       "      <td>3</td>\n",
       "      <td>None</td>\n",
       "      <td>None</td>\n",
       "    </tr>\n",
       "    <tr>\n",
       "      <th>3</th>\n",
       "      <td>1212165669682401282</td>\n",
       "      <td>1212146612203638784</td>\n",
       "      <td>349009349</td>\n",
       "      <td>borgenstudio</td>\n",
       "      <td>Borgen Studio</td>\n",
       "      <td>a BORGEN STUDIO ajudem a les empreses a ajusta...</td>\n",
       "      <td>970957796593360896</td>\n",
       "      <td>lifeclimark</td>\n",
       "      <td>Life Climark</td>\n",
       "      <td>El projecte CLIMARK té com a principal objecti...</td>\n",
       "      <td>...</td>\n",
       "      <td>Mollet del Vallès, Barcelona</td>\n",
       "      <td></td>\n",
       "      <td>2020-01-01T00:16:31.000Z</td>\n",
       "      <td>2019-12-31T23:00:47.000Z</td>\n",
       "      <td>borgenstudio</td>\n",
       "      <td>lifeclimark</td>\n",
       "      <td>3</td>\n",
       "      <td>3</td>\n",
       "      <td>None</td>\n",
       "      <td>None</td>\n",
       "    </tr>\n",
       "    <tr>\n",
       "      <th>4</th>\n",
       "      <td>1212166239239462912</td>\n",
       "      <td>1212132598903910400</td>\n",
       "      <td>898824456864485376</td>\n",
       "      <td>HousingFirstUK</td>\n",
       "      <td>#HousingFirst UK</td>\n",
       "      <td>Housing First UK - Connecting people for #Hous...</td>\n",
       "      <td>893810346</td>\n",
       "      <td>Zebra_carol</td>\n",
       "      <td>Carol Ann Whitehead FRSA GGA The Zebra Partner...</td>\n",
       "      <td>Publishing, Events &amp; Campaign specialist | #Ze...</td>\n",
       "      <td>...</td>\n",
       "      <td>London, England</td>\n",
       "      <td>Global Citizen born ??????</td>\n",
       "      <td>2020-01-01T00:18:47.000Z</td>\n",
       "      <td>2019-12-31T22:05:06.000Z</td>\n",
       "      <td>HousingFirstUK</td>\n",
       "      <td>Zebra_carol</td>\n",
       "      <td>3</td>\n",
       "      <td>3</td>\n",
       "      <td>None</td>\n",
       "      <td>None</td>\n",
       "    </tr>\n",
       "  </tbody>\n",
       "</table>\n",
       "<p>5 rows × 24 columns</p>\n",
       "</div>"
      ],
      "text/plain": [
       "              id_tweet        id_tweet_orig          id_usuario  \\\n",
       "0  1212163587294167040                 None            87613968   \n",
       "1  1212164231602114560  1212019166107975680            16511904   \n",
       "2  1212165341532565505  1212146612203638784           855368138   \n",
       "3  1212165669682401282  1212146612203638784           349009349   \n",
       "4  1212166239239462912  1212132598903910400  898824456864485376   \n",
       "\n",
       "      nom_usuario nom_completo_usuario  \\\n",
       "0       docraghu8   Raghupathy Anchala   \n",
       "1    SimiMishraSM       simi.mishra.sm   \n",
       "2        PIMESind   Regals Republicans   \n",
       "3    borgenstudio        Borgen Studio   \n",
       "4  HousingFirstUK     #HousingFirst UK   \n",
       "\n",
       "                                        desc_usuario     id_usuario_orig  \\\n",
       "0  Professor | Public Health & Primary Care Speci...                       \n",
       "1  A consultant with a passion for developing ski...          2397494744   \n",
       "2          Botiga online de regals independentistes.  970957796593360896   \n",
       "3  a BORGEN STUDIO ajudem a les empreses a ajusta...  970957796593360896   \n",
       "4  Housing First UK - Connecting people for #Hous...           893810346   \n",
       "\n",
       "  nom_usuario_orig                          nom_completo_usuario_orig  \\\n",
       "0             None                                               None   \n",
       "1        CDF_India                       Connecting Dreams Foundation   \n",
       "2      lifeclimark                                       Life Climark   \n",
       "3      lifeclimark                                       Life Climark   \n",
       "4      Zebra_carol  Carol Ann Whitehead FRSA GGA The Zebra Partner...   \n",
       "\n",
       "                                   desc_usuario_orig  ...  \\\n",
       "0                                               None  ...   \n",
       "1          Connecting 10 Million SDG Dreams by 2025!  ...   \n",
       "2  El projecte CLIMARK té com a principal objecti...  ...   \n",
       "3  El projecte CLIMARK té com a principal objecti...  ...   \n",
       "4  Publishing, Events & Campaign specialist | #Ze...  ...   \n",
       "\n",
       "                   tw_ubicacion           tw_ubicacion_orig  \\\n",
       "0                   Pune, India                        None   \n",
       "1                         India                       India   \n",
       "2             Mollet del Vallès                               \n",
       "3  Mollet del Vallès, Barcelona                               \n",
       "4               London, England  Global Citizen born ??????   \n",
       "\n",
       "            tw_horacreacion      tw_horacreacion_orig tw_retwitteadopor  \\\n",
       "0  2020-01-01T00:08:14.000Z                      None         docraghu8   \n",
       "1  2020-01-01T00:10:48.000Z  2019-12-31T14:34:22.000Z      SimiMishraSM   \n",
       "2  2020-01-01T00:15:13.000Z  2019-12-31T23:00:47.000Z          PIMESind   \n",
       "3  2020-01-01T00:16:31.000Z  2019-12-31T23:00:47.000Z      borgenstudio   \n",
       "4  2020-01-01T00:18:47.000Z  2019-12-31T22:05:06.000Z    HousingFirstUK   \n",
       "\n",
       "  tw_twitteadopor tw_recuento_rt tw_recuento_rt_orig it_destino_final  \\\n",
       "0            None              0                                 None   \n",
       "1       CDF_India              1                   1             None   \n",
       "2     lifeclimark              3                   3             None   \n",
       "3     lifeclimark              3                   3             None   \n",
       "4     Zebra_carol              3                   3             None   \n",
       "\n",
       "  it_destino_orig_final  \n",
       "0                  None  \n",
       "1                  None  \n",
       "2                  None  \n",
       "3                  None  \n",
       "4                  None  \n",
       "\n",
       "[5 rows x 24 columns]"
      ]
     },
     "execution_count": 6,
     "metadata": {},
     "output_type": "execute_result"
    }
   ],
   "source": [
    "df = pd.DataFrame.from_dict(tweets)\n",
    "df.head()"
   ]
  },
  {
   "cell_type": "code",
   "execution_count": 7,
   "metadata": {},
   "outputs": [
    {
     "data": {
      "text/plain": [
       "(43697, 24)"
      ]
     },
     "execution_count": 7,
     "metadata": {},
     "output_type": "execute_result"
    }
   ],
   "source": [
    "df.shape"
   ]
  },
  {
   "cell_type": "code",
   "execution_count": 8,
   "metadata": {},
   "outputs": [
    {
     "name": "stdout",
     "output_type": "stream",
     "text": [
      "<class 'pandas.core.frame.DataFrame'>\n",
      "RangeIndex: 43697 entries, 0 to 43696\n",
      "Data columns (total 24 columns):\n",
      " #   Column                     Non-Null Count  Dtype \n",
      "---  ------                     --------------  ----- \n",
      " 0   id_tweet                   43697 non-null  object\n",
      " 1   id_tweet_orig              29598 non-null  object\n",
      " 2   id_usuario                 43697 non-null  object\n",
      " 3   nom_usuario                43697 non-null  object\n",
      " 4   nom_completo_usuario       43697 non-null  object\n",
      " 5   desc_usuario               43697 non-null  object\n",
      " 6   id_usuario_orig            43697 non-null  object\n",
      " 7   nom_usuario_orig           29598 non-null  object\n",
      " 8   nom_completo_usuario_orig  29598 non-null  object\n",
      " 9   desc_usuario_orig          29598 non-null  object\n",
      " 10  tw_texto                   43697 non-null  object\n",
      " 11  tw_texto_orig              29598 non-null  object\n",
      " 12  tw_idioma                  43697 non-null  object\n",
      " 13  tw_idioma_orig             29598 non-null  object\n",
      " 14  tw_ubicacion               43697 non-null  object\n",
      " 15  tw_ubicacion_orig          29598 non-null  object\n",
      " 16  tw_horacreacion            43697 non-null  object\n",
      " 17  tw_horacreacion_orig       29598 non-null  object\n",
      " 18  tw_retwitteadopor          43697 non-null  object\n",
      " 19  tw_twitteadopor            29598 non-null  object\n",
      " 20  tw_recuento_rt             43697 non-null  object\n",
      " 21  tw_recuento_rt_orig        43697 non-null  object\n",
      " 22  it_destino_final           0 non-null      object\n",
      " 23  it_destino_orig_final      0 non-null      object\n",
      "dtypes: object(24)\n",
      "memory usage: 8.0+ MB\n"
     ]
    }
   ],
   "source": [
    "df.info()"
   ]
  },
  {
   "cell_type": "code",
   "execution_count": 9,
   "metadata": {},
   "outputs": [],
   "source": [
    "df.drop(['it_destino_final', 'it_destino_orig_final'], axis=1, inplace=True)"
   ]
  },
  {
   "cell_type": "markdown",
   "metadata": {},
   "source": [
    "Vamos a ver el idioma de los _tweets_"
   ]
  },
  {
   "cell_type": "code",
   "execution_count": 10,
   "metadata": {},
   "outputs": [
    {
     "data": {
      "text/plain": [
       "es     25395\n",
       "en     13256\n",
       "ca      1130\n",
       "und      778\n",
       "ja       702\n",
       "fr       429\n",
       "pt       351\n",
       "it       323\n",
       "nl       308\n",
       "de       240\n",
       "tr       146\n",
       "sv       126\n",
       "fi        98\n",
       "in        95\n",
       "cs        81\n",
       "da        58\n",
       "hi        24\n",
       "no        24\n",
       "pl        23\n",
       "eu        22\n",
       "tl        18\n",
       "ro        15\n",
       "ru        12\n",
       "zh         8\n",
       "sl         5\n",
       "bn         5\n",
       "et         4\n",
       "ar         3\n",
       "th         3\n",
       "is         3\n",
       "ht         2\n",
       "hu         2\n",
       "uk         2\n",
       "te         2\n",
       "lt         1\n",
       "ur         1\n",
       "cy         1\n",
       "kn         1\n",
       "Name: tw_idioma, dtype: int64"
      ]
     },
     "execution_count": 10,
     "metadata": {},
     "output_type": "execute_result"
    }
   ],
   "source": [
    "df['tw_idioma'].value_counts()"
   ]
  },
  {
   "cell_type": "code",
   "execution_count": 11,
   "metadata": {},
   "outputs": [
    {
     "data": {
      "text/plain": [
       "1709     @bonbonsbonbons @kolezev ? ????????? ???????? ...\n",
       "2705     RT @TheWorldOnlyOrg: ?? ?????? ?????? ????????...\n",
       "2758     RT @TheWorldOnlyOrg: ?? ?????? ?????? ????????...\n",
       "3100     #??? 2020-???? 5 ?????? ?????????? ?????????. ...\n",
       "6496     ?????? ???????? ??????????? ???? ????? ??? ???...\n",
       "6498     ?????? ???????? ??????????? ???? ????? ??? ???...\n",
       "9808     @pluffy_void @SocFemRu ???! ??? ??????:) ? ???...\n",
       "9897     ??????, ?? ?????????? ???? ?????????????? ? ??...\n",
       "10392    RT @OpenShkola: ??????, ?? ?????????? ???? ???...\n",
       "14893    #ods ???????? ??????. ?????? ?? ??????????? 5 ...\n",
       "33381    19 ????? ?? ???????? #??? #??? ????????? ?????...\n",
       "33382    RT @mission_russian: 19 ????? ?? ???????? #???...\n",
       "Name: tw_texto, dtype: object"
      ]
     },
     "execution_count": 11,
     "metadata": {},
     "output_type": "execute_result"
    }
   ],
   "source": [
    "df[df['tw_idioma'] == 'ru']['tw_texto']"
   ]
  },
  {
   "cell_type": "markdown",
   "metadata": {},
   "source": [
    "Seleccionamos sólo los _tweets_ en castellano."
   ]
  },
  {
   "cell_type": "code",
   "execution_count": 12,
   "metadata": {},
   "outputs": [],
   "source": [
    "df_es = df[df['tw_idioma'] == 'es']"
   ]
  },
  {
   "cell_type": "code",
   "execution_count": 13,
   "metadata": {},
   "outputs": [
    {
     "data": {
      "text/plain": [
       "(25395, 22)"
      ]
     },
     "execution_count": 13,
     "metadata": {},
     "output_type": "execute_result"
    }
   ],
   "source": [
    "df_es.shape"
   ]
  },
  {
   "cell_type": "markdown",
   "metadata": {},
   "source": [
    "Hay que tener en cuenta si se trata de un _retweet_. En ese caso el texto está en el campo `tw_texto_orig`. Si es un _tweet_ original el texto está en `tw_texto`."
   ]
  },
  {
   "cell_type": "code",
   "execution_count": 14,
   "metadata": {},
   "outputs": [
    {
     "data": {
      "text/plain": [
       "6        #promotoresods les desea feliz año. Nuestro lu...\n",
       "7        Aplicación de un riego de agua depurada con en...\n",
       "8        ??Es lunes de estreno ????????\\nLos esperamos ...\n",
       "9        A una década para cumplir con los objetivos de...\n",
       "10       ???Nº 329\\n??#HomenajeAlMunicipalismo en el @S...\n",
       "                               ...                        \n",
       "43690    Documento #CEPAL examina las tendencias económ...\n",
       "43693    Ámsterdam demuestra que no es ninguna quimera ...\n",
       "43694    ¡Aprovecha tu tiempo de confinamiento! En el b...\n",
       "43695    Un pilar del mandato de la Fundación es promov...\n",
       "43696    Casa Valle Imperial                           ...\n",
       "Name: texto, Length: 25395, dtype: object"
      ]
     },
     "execution_count": 14,
     "metadata": {},
     "output_type": "execute_result"
    }
   ],
   "source": [
    "texto = np.where(df_es['tw_texto'].str.startswith('RT'), df_es['tw_texto_orig'], df_es['tw_texto'])\n",
    "df_es = pd.concat([df_es, pd.DataFrame(texto, columns=['texto'], index=df_es.index)], axis=1)\n",
    "df_es['texto']"
   ]
  },
  {
   "cell_type": "code",
   "execution_count": 15,
   "metadata": {},
   "outputs": [
    {
     "data": {
      "text/plain": [
       "(25395, 23)"
      ]
     },
     "execution_count": 15,
     "metadata": {},
     "output_type": "execute_result"
    }
   ],
   "source": [
    "df_es.shape"
   ]
  }
 ],
 "metadata": {
  "kernelspec": {
   "display_name": "Python 3",
   "language": "python",
   "name": "python3"
  },
  "language_info": {
   "codemirror_mode": {
    "name": "ipython",
    "version": 3
   },
   "file_extension": ".py",
   "mimetype": "text/x-python",
   "name": "python",
   "nbconvert_exporter": "python",
   "pygments_lexer": "ipython3",
   "version": "3.6.10"
  }
 },
 "nbformat": 4,
 "nbformat_minor": 4
}
